{
  "nbformat": 4,
  "nbformat_minor": 0,
  "metadata": {
    "colab": {
      "name": "Question_pair_similarity.ipynb",
      "provenance": [],
      "collapsed_sections": []
    },
    "kernelspec": {
      "name": "python3",
      "display_name": "Python 3"
    },
    "language_info": {
      "name": "python"
    }
  },
  "cells": [
    {
      "cell_type": "code",
      "execution_count": null,
      "metadata": {
        "id": "E6g-xXfgeX_9"
      },
      "outputs": [],
      "source": [
        "import pickle\n",
        "arr=[i for i in range(1000)]\n",
        "with open('file.pkl','wb') as f:\n",
        "  pickle.dump(arr,f)\n",
        "  pickle.dumps()\n"
      ]
    },
    {
      "cell_type": "code",
      "source": [
        "with open('file.pkl','rb') as f:\n",
        "  val=pickle.load(f)\n",
        "  f.close()\n",
        "print(val)"
      ],
      "metadata": {
        "colab": {
          "base_uri": "https://localhost:8080/"
        },
        "id": "YADpkxryqYbo",
        "outputId": "bf64b4a4-fcc6-4b8d-bf43-e02ff5c9d5c7"
      },
      "execution_count": null,
      "outputs": [
        {
          "output_type": "stream",
          "name": "stdout",
          "text": [
            "[0, 1, 2, 3, 4, 5, 6, 7, 8, 9, 10, 11, 12, 13, 14, 15, 16, 17, 18, 19, 20, 21, 22, 23, 24, 25, 26, 27, 28, 29, 30, 31, 32, 33, 34, 35, 36, 37, 38, 39, 40, 41, 42, 43, 44, 45, 46, 47, 48, 49, 50, 51, 52, 53, 54, 55, 56, 57, 58, 59, 60, 61, 62, 63, 64, 65, 66, 67, 68, 69, 70, 71, 72, 73, 74, 75, 76, 77, 78, 79, 80, 81, 82, 83, 84, 85, 86, 87, 88, 89, 90, 91, 92, 93, 94, 95, 96, 97, 98, 99, 100, 101, 102, 103, 104, 105, 106, 107, 108, 109, 110, 111, 112, 113, 114, 115, 116, 117, 118, 119, 120, 121, 122, 123, 124, 125, 126, 127, 128, 129, 130, 131, 132, 133, 134, 135, 136, 137, 138, 139, 140, 141, 142, 143, 144, 145, 146, 147, 148, 149, 150, 151, 152, 153, 154, 155, 156, 157, 158, 159, 160, 161, 162, 163, 164, 165, 166, 167, 168, 169, 170, 171, 172, 173, 174, 175, 176, 177, 178, 179, 180, 181, 182, 183, 184, 185, 186, 187, 188, 189, 190, 191, 192, 193, 194, 195, 196, 197, 198, 199, 200, 201, 202, 203, 204, 205, 206, 207, 208, 209, 210, 211, 212, 213, 214, 215, 216, 217, 218, 219, 220, 221, 222, 223, 224, 225, 226, 227, 228, 229, 230, 231, 232, 233, 234, 235, 236, 237, 238, 239, 240, 241, 242, 243, 244, 245, 246, 247, 248, 249, 250, 251, 252, 253, 254, 255, 256, 257, 258, 259, 260, 261, 262, 263, 264, 265, 266, 267, 268, 269, 270, 271, 272, 273, 274, 275, 276, 277, 278, 279, 280, 281, 282, 283, 284, 285, 286, 287, 288, 289, 290, 291, 292, 293, 294, 295, 296, 297, 298, 299, 300, 301, 302, 303, 304, 305, 306, 307, 308, 309, 310, 311, 312, 313, 314, 315, 316, 317, 318, 319, 320, 321, 322, 323, 324, 325, 326, 327, 328, 329, 330, 331, 332, 333, 334, 335, 336, 337, 338, 339, 340, 341, 342, 343, 344, 345, 346, 347, 348, 349, 350, 351, 352, 353, 354, 355, 356, 357, 358, 359, 360, 361, 362, 363, 364, 365, 366, 367, 368, 369, 370, 371, 372, 373, 374, 375, 376, 377, 378, 379, 380, 381, 382, 383, 384, 385, 386, 387, 388, 389, 390, 391, 392, 393, 394, 395, 396, 397, 398, 399, 400, 401, 402, 403, 404, 405, 406, 407, 408, 409, 410, 411, 412, 413, 414, 415, 416, 417, 418, 419, 420, 421, 422, 423, 424, 425, 426, 427, 428, 429, 430, 431, 432, 433, 434, 435, 436, 437, 438, 439, 440, 441, 442, 443, 444, 445, 446, 447, 448, 449, 450, 451, 452, 453, 454, 455, 456, 457, 458, 459, 460, 461, 462, 463, 464, 465, 466, 467, 468, 469, 470, 471, 472, 473, 474, 475, 476, 477, 478, 479, 480, 481, 482, 483, 484, 485, 486, 487, 488, 489, 490, 491, 492, 493, 494, 495, 496, 497, 498, 499, 500, 501, 502, 503, 504, 505, 506, 507, 508, 509, 510, 511, 512, 513, 514, 515, 516, 517, 518, 519, 520, 521, 522, 523, 524, 525, 526, 527, 528, 529, 530, 531, 532, 533, 534, 535, 536, 537, 538, 539, 540, 541, 542, 543, 544, 545, 546, 547, 548, 549, 550, 551, 552, 553, 554, 555, 556, 557, 558, 559, 560, 561, 562, 563, 564, 565, 566, 567, 568, 569, 570, 571, 572, 573, 574, 575, 576, 577, 578, 579, 580, 581, 582, 583, 584, 585, 586, 587, 588, 589, 590, 591, 592, 593, 594, 595, 596, 597, 598, 599, 600, 601, 602, 603, 604, 605, 606, 607, 608, 609, 610, 611, 612, 613, 614, 615, 616, 617, 618, 619, 620, 621, 622, 623, 624, 625, 626, 627, 628, 629, 630, 631, 632, 633, 634, 635, 636, 637, 638, 639, 640, 641, 642, 643, 644, 645, 646, 647, 648, 649, 650, 651, 652, 653, 654, 655, 656, 657, 658, 659, 660, 661, 662, 663, 664, 665, 666, 667, 668, 669, 670, 671, 672, 673, 674, 675, 676, 677, 678, 679, 680, 681, 682, 683, 684, 685, 686, 687, 688, 689, 690, 691, 692, 693, 694, 695, 696, 697, 698, 699, 700, 701, 702, 703, 704, 705, 706, 707, 708, 709, 710, 711, 712, 713, 714, 715, 716, 717, 718, 719, 720, 721, 722, 723, 724, 725, 726, 727, 728, 729, 730, 731, 732, 733, 734, 735, 736, 737, 738, 739, 740, 741, 742, 743, 744, 745, 746, 747, 748, 749, 750, 751, 752, 753, 754, 755, 756, 757, 758, 759, 760, 761, 762, 763, 764, 765, 766, 767, 768, 769, 770, 771, 772, 773, 774, 775, 776, 777, 778, 779, 780, 781, 782, 783, 784, 785, 786, 787, 788, 789, 790, 791, 792, 793, 794, 795, 796, 797, 798, 799, 800, 801, 802, 803, 804, 805, 806, 807, 808, 809, 810, 811, 812, 813, 814, 815, 816, 817, 818, 819, 820, 821, 822, 823, 824, 825, 826, 827, 828, 829, 830, 831, 832, 833, 834, 835, 836, 837, 838, 839, 840, 841, 842, 843, 844, 845, 846, 847, 848, 849, 850, 851, 852, 853, 854, 855, 856, 857, 858, 859, 860, 861, 862, 863, 864, 865, 866, 867, 868, 869, 870, 871, 872, 873, 874, 875, 876, 877, 878, 879, 880, 881, 882, 883, 884, 885, 886, 887, 888, 889, 890, 891, 892, 893, 894, 895, 896, 897, 898, 899, 900, 901, 902, 903, 904, 905, 906, 907, 908, 909, 910, 911, 912, 913, 914, 915, 916, 917, 918, 919, 920, 921, 922, 923, 924, 925, 926, 927, 928, 929, 930, 931, 932, 933, 934, 935, 936, 937, 938, 939, 940, 941, 942, 943, 944, 945, 946, 947, 948, 949, 950, 951, 952, 953, 954, 955, 956, 957, 958, 959, 960, 961, 962, 963, 964, 965, 966, 967, 968, 969, 970, 971, 972, 973, 974, 975, 976, 977, 978, 979, 980, 981, 982, 983, 984, 985, 986, 987, 988, 989, 990, 991, 992, 993, 994, 995, 996, 997, 998, 999]\n"
          ]
        }
      ]
    },
    {
      "cell_type": "markdown",
      "source": [
        "##Quora question pair similarity dataset will be used\n",
        "*Now we will be installing the kaggle api for downloding the dataset*\n",
        "\n"
      ],
      "metadata": {
        "id": "HFRyXE3SeeB5"
      }
    },
    {
      "cell_type": "code",
      "source": [
        "!pip install kaggle"
      ],
      "metadata": {
        "colab": {
          "base_uri": "https://localhost:8080/"
        },
        "id": "EsA9lhzoelix",
        "outputId": "16fb6772-6f39-451d-f3b4-832b78851354"
      },
      "execution_count": 216,
      "outputs": [
        {
          "output_type": "stream",
          "name": "stdout",
          "text": [
            "Requirement already satisfied: kaggle in /usr/local/lib/python3.7/dist-packages (1.5.12)\n",
            "Requirement already satisfied: python-dateutil in /usr/local/lib/python3.7/dist-packages (from kaggle) (2.8.2)\n",
            "Requirement already satisfied: python-slugify in /usr/local/lib/python3.7/dist-packages (from kaggle) (6.1.2)\n",
            "Requirement already satisfied: requests in /usr/local/lib/python3.7/dist-packages (from kaggle) (2.23.0)\n",
            "Requirement already satisfied: tqdm in /usr/local/lib/python3.7/dist-packages (from kaggle) (4.64.0)\n",
            "Requirement already satisfied: certifi in /usr/local/lib/python3.7/dist-packages (from kaggle) (2021.10.8)\n",
            "Requirement already satisfied: urllib3 in /usr/local/lib/python3.7/dist-packages (from kaggle) (1.24.3)\n",
            "Requirement already satisfied: six>=1.10 in /usr/local/lib/python3.7/dist-packages (from kaggle) (1.15.0)\n",
            "Requirement already satisfied: text-unidecode>=1.3 in /usr/local/lib/python3.7/dist-packages (from python-slugify->kaggle) (1.3)\n",
            "Requirement already satisfied: idna<3,>=2.5 in /usr/local/lib/python3.7/dist-packages (from requests->kaggle) (2.10)\n",
            "Requirement already satisfied: chardet<4,>=3.0.2 in /usr/local/lib/python3.7/dist-packages (from requests->kaggle) (3.0.4)\n"
          ]
        }
      ]
    },
    {
      "cell_type": "code",
      "source": [
        "!mkdir ~/.kaggle\n",
        "!cp kaggle.json ~/.kaggle/\n",
        "!chmod 600 ~/.kaggle/kaggle.json"
      ],
      "metadata": {
        "id": "HBjN8F_He68M"
      },
      "execution_count": 217,
      "outputs": []
    },
    {
      "cell_type": "code",
      "source": [
        "!kaggle competitions download -c quora-question-pairs"
      ],
      "metadata": {
        "colab": {
          "base_uri": "https://localhost:8080/"
        },
        "id": "00IXOx-re6e1",
        "outputId": "6cc73605-2575-48f7-d49d-509d5674b11d"
      },
      "execution_count": 218,
      "outputs": [
        {
          "output_type": "stream",
          "name": "stdout",
          "text": [
            "Downloading quora-question-pairs.zip to /content\n",
            "100% 309M/309M [00:04<00:00, 80.1MB/s]\n",
            "100% 309M/309M [00:04<00:00, 73.1MB/s]\n"
          ]
        }
      ]
    },
    {
      "cell_type": "code",
      "source": [
        "!unzip quora-question-pairs.zip -d quora_question"
      ],
      "metadata": {
        "colab": {
          "base_uri": "https://localhost:8080/"
        },
        "id": "B2KAVRcVfcNc",
        "outputId": "0c682812-ce81-40d5-f820-0704cb6ef904"
      },
      "execution_count": 219,
      "outputs": [
        {
          "output_type": "stream",
          "name": "stdout",
          "text": [
            "Archive:  quora-question-pairs.zip\n",
            "  inflating: quora_question/sample_submission.csv.zip  \n",
            "  inflating: quora_question/test.csv  \n",
            "  inflating: quora_question/test.csv.zip  \n",
            "  inflating: quora_question/train.csv.zip  \n"
          ]
        }
      ]
    },
    {
      "cell_type": "code",
      "source": [
        "%cd quora_question/"
      ],
      "metadata": {
        "colab": {
          "base_uri": "https://localhost:8080/"
        },
        "id": "oAcWNMf6gGTB",
        "outputId": "49a1654d-b56d-40b0-ba32-db8fca4fa97a"
      },
      "execution_count": 220,
      "outputs": [
        {
          "output_type": "stream",
          "name": "stdout",
          "text": [
            "/content/quora_question\n"
          ]
        }
      ]
    },
    {
      "cell_type": "code",
      "source": [
        "!unzip train.csv.zip\n",
        "!unzip test.csv.zip"
      ],
      "metadata": {
        "colab": {
          "base_uri": "https://localhost:8080/"
        },
        "id": "hIAAEZNDgwt1",
        "outputId": "f604a510-ebac-41cb-fc1d-d360382f9cbf"
      },
      "execution_count": 221,
      "outputs": [
        {
          "output_type": "stream",
          "name": "stdout",
          "text": [
            "Archive:  train.csv.zip\n",
            "  inflating: train.csv               \n",
            "Archive:  test.csv.zip\n",
            "replace test.csv? [y]es, [n]o, [A]ll, [N]one, [r]ename: r\n",
            "new name: test1\n",
            "  inflating: test1                   \n"
          ]
        }
      ]
    },
    {
      "cell_type": "markdown",
      "source": [
        "#Now we will be importing all the necessary libraries\n"
      ],
      "metadata": {
        "id": "Yi7EtQWahXFb"
      }
    },
    {
      "cell_type": "code",
      "source": [
        "!pip install fuzzywuzzy\n",
        "!pip install python-Levenshtein\n",
        "!pip install wordcloud\n",
        "!pip install gdown\n",
        "\n",
        "from fuzzywuzzy import fuzz\n",
        "from wordcloud import WordCloud, STOPWORDS\n",
        "import pandas as pd\n",
        "import numpy as np\n",
        "import nltk\n",
        "import matplotlib.pyplot as plt\n",
        "import seaborn as sns\n",
        "from nltk.stem import PorterStemmer\n",
        "from nltk.stem import WordNetLemmatizer\n",
        "from nltk.stem import SnowballStemmer\n",
        "from nltk.tokenize import word_tokenize \n",
        "import re\n",
        "from bs4 import BeautifulSoup\n",
        "from sklearn.feature_extraction.text import TfidfVectorizer\n",
        "from sklearn.metrics.pairwise import cosine_similarity\n",
        "from nltk.corpus import stopwords\n",
        "from sklearn.metrics import confusion_matrix\n",
        "from sklearn.decomposition import TruncatedSVD\n",
        "from sklearn.preprocessing import normalize\n",
        "import xgboost as xgb\n",
        "nltk.download('stopwords')"
      ],
      "metadata": {
        "id": "wVM1lDb_hKPu",
        "colab": {
          "base_uri": "https://localhost:8080/"
        },
        "outputId": "8d3c3edb-6e31-484c-d46d-e7bac495bdec"
      },
      "execution_count": 222,
      "outputs": [
        {
          "output_type": "stream",
          "name": "stdout",
          "text": [
            "Requirement already satisfied: fuzzywuzzy in /usr/local/lib/python3.7/dist-packages (0.18.0)\n",
            "Requirement already satisfied: python-Levenshtein in /usr/local/lib/python3.7/dist-packages (0.12.2)\n",
            "Requirement already satisfied: setuptools in /usr/local/lib/python3.7/dist-packages (from python-Levenshtein) (57.4.0)\n",
            "Requirement already satisfied: wordcloud in /usr/local/lib/python3.7/dist-packages (1.5.0)\n",
            "Requirement already satisfied: pillow in /usr/local/lib/python3.7/dist-packages (from wordcloud) (7.1.2)\n",
            "Requirement already satisfied: numpy>=1.6.1 in /usr/local/lib/python3.7/dist-packages (from wordcloud) (1.21.6)\n",
            "Requirement already satisfied: gdown in /usr/local/lib/python3.7/dist-packages (4.4.0)\n",
            "Requirement already satisfied: six in /usr/local/lib/python3.7/dist-packages (from gdown) (1.15.0)\n",
            "Requirement already satisfied: filelock in /usr/local/lib/python3.7/dist-packages (from gdown) (3.6.0)\n",
            "Requirement already satisfied: beautifulsoup4 in /usr/local/lib/python3.7/dist-packages (from gdown) (4.6.3)\n",
            "Requirement already satisfied: tqdm in /usr/local/lib/python3.7/dist-packages (from gdown) (4.64.0)\n",
            "Requirement already satisfied: requests[socks] in /usr/local/lib/python3.7/dist-packages (from gdown) (2.23.0)\n",
            "Requirement already satisfied: idna<3,>=2.5 in /usr/local/lib/python3.7/dist-packages (from requests[socks]->gdown) (2.10)\n",
            "Requirement already satisfied: certifi>=2017.4.17 in /usr/local/lib/python3.7/dist-packages (from requests[socks]->gdown) (2021.10.8)\n",
            "Requirement already satisfied: chardet<4,>=3.0.2 in /usr/local/lib/python3.7/dist-packages (from requests[socks]->gdown) (3.0.4)\n",
            "Requirement already satisfied: urllib3!=1.25.0,!=1.25.1,<1.26,>=1.21.1 in /usr/local/lib/python3.7/dist-packages (from requests[socks]->gdown) (1.24.3)\n",
            "Requirement already satisfied: PySocks!=1.5.7,>=1.5.6 in /usr/local/lib/python3.7/dist-packages (from requests[socks]->gdown) (1.7.1)\n",
            "[nltk_data] Downloading package stopwords to /root/nltk_data...\n",
            "[nltk_data]   Package stopwords is already up-to-date!\n"
          ]
        },
        {
          "output_type": "execute_result",
          "data": {
            "text/plain": [
              "True"
            ]
          },
          "metadata": {},
          "execution_count": 222
        }
      ]
    },
    {
      "cell_type": "code",
      "source": [
        "data=pd.read_csv('train.csv',header='infer',on_bad_lines='skip')\n",
        "data.head(5)"
      ],
      "metadata": {
        "colab": {
          "base_uri": "https://localhost:8080/",
          "height": 206
        },
        "id": "fCcymjBGjjcw",
        "outputId": "2a7349ee-05b5-4be4-8d36-444753cddc63"
      },
      "execution_count": 223,
      "outputs": [
        {
          "output_type": "execute_result",
          "data": {
            "text/plain": [
              "   id  qid1  qid2                                          question1  \\\n",
              "0   0     1     2  What is the step by step guide to invest in sh...   \n",
              "1   1     3     4  What is the story of Kohinoor (Koh-i-Noor) Dia...   \n",
              "2   2     5     6  How can I increase the speed of my internet co...   \n",
              "3   3     7     8  Why am I mentally very lonely? How can I solve...   \n",
              "4   4     9    10  Which one dissolve in water quikly sugar, salt...   \n",
              "\n",
              "                                           question2  is_duplicate  \n",
              "0  What is the step by step guide to invest in sh...             0  \n",
              "1  What would happen if the Indian government sto...             0  \n",
              "2  How can Internet speed be increased by hacking...             0  \n",
              "3  Find the remainder when [math]23^{24}[/math] i...             0  \n",
              "4            Which fish would survive in salt water?             0  "
            ],
            "text/html": [
              "\n",
              "  <div id=\"df-f2f8a497-6226-4060-9918-c910bc9e69d9\">\n",
              "    <div class=\"colab-df-container\">\n",
              "      <div>\n",
              "<style scoped>\n",
              "    .dataframe tbody tr th:only-of-type {\n",
              "        vertical-align: middle;\n",
              "    }\n",
              "\n",
              "    .dataframe tbody tr th {\n",
              "        vertical-align: top;\n",
              "    }\n",
              "\n",
              "    .dataframe thead th {\n",
              "        text-align: right;\n",
              "    }\n",
              "</style>\n",
              "<table border=\"1\" class=\"dataframe\">\n",
              "  <thead>\n",
              "    <tr style=\"text-align: right;\">\n",
              "      <th></th>\n",
              "      <th>id</th>\n",
              "      <th>qid1</th>\n",
              "      <th>qid2</th>\n",
              "      <th>question1</th>\n",
              "      <th>question2</th>\n",
              "      <th>is_duplicate</th>\n",
              "    </tr>\n",
              "  </thead>\n",
              "  <tbody>\n",
              "    <tr>\n",
              "      <th>0</th>\n",
              "      <td>0</td>\n",
              "      <td>1</td>\n",
              "      <td>2</td>\n",
              "      <td>What is the step by step guide to invest in sh...</td>\n",
              "      <td>What is the step by step guide to invest in sh...</td>\n",
              "      <td>0</td>\n",
              "    </tr>\n",
              "    <tr>\n",
              "      <th>1</th>\n",
              "      <td>1</td>\n",
              "      <td>3</td>\n",
              "      <td>4</td>\n",
              "      <td>What is the story of Kohinoor (Koh-i-Noor) Dia...</td>\n",
              "      <td>What would happen if the Indian government sto...</td>\n",
              "      <td>0</td>\n",
              "    </tr>\n",
              "    <tr>\n",
              "      <th>2</th>\n",
              "      <td>2</td>\n",
              "      <td>5</td>\n",
              "      <td>6</td>\n",
              "      <td>How can I increase the speed of my internet co...</td>\n",
              "      <td>How can Internet speed be increased by hacking...</td>\n",
              "      <td>0</td>\n",
              "    </tr>\n",
              "    <tr>\n",
              "      <th>3</th>\n",
              "      <td>3</td>\n",
              "      <td>7</td>\n",
              "      <td>8</td>\n",
              "      <td>Why am I mentally very lonely? How can I solve...</td>\n",
              "      <td>Find the remainder when [math]23^{24}[/math] i...</td>\n",
              "      <td>0</td>\n",
              "    </tr>\n",
              "    <tr>\n",
              "      <th>4</th>\n",
              "      <td>4</td>\n",
              "      <td>9</td>\n",
              "      <td>10</td>\n",
              "      <td>Which one dissolve in water quikly sugar, salt...</td>\n",
              "      <td>Which fish would survive in salt water?</td>\n",
              "      <td>0</td>\n",
              "    </tr>\n",
              "  </tbody>\n",
              "</table>\n",
              "</div>\n",
              "      <button class=\"colab-df-convert\" onclick=\"convertToInteractive('df-f2f8a497-6226-4060-9918-c910bc9e69d9')\"\n",
              "              title=\"Convert this dataframe to an interactive table.\"\n",
              "              style=\"display:none;\">\n",
              "        \n",
              "  <svg xmlns=\"http://www.w3.org/2000/svg\" height=\"24px\"viewBox=\"0 0 24 24\"\n",
              "       width=\"24px\">\n",
              "    <path d=\"M0 0h24v24H0V0z\" fill=\"none\"/>\n",
              "    <path d=\"M18.56 5.44l.94 2.06.94-2.06 2.06-.94-2.06-.94-.94-2.06-.94 2.06-2.06.94zm-11 1L8.5 8.5l.94-2.06 2.06-.94-2.06-.94L8.5 2.5l-.94 2.06-2.06.94zm10 10l.94 2.06.94-2.06 2.06-.94-2.06-.94-.94-2.06-.94 2.06-2.06.94z\"/><path d=\"M17.41 7.96l-1.37-1.37c-.4-.4-.92-.59-1.43-.59-.52 0-1.04.2-1.43.59L10.3 9.45l-7.72 7.72c-.78.78-.78 2.05 0 2.83L4 21.41c.39.39.9.59 1.41.59.51 0 1.02-.2 1.41-.59l7.78-7.78 2.81-2.81c.8-.78.8-2.07 0-2.86zM5.41 20L4 18.59l7.72-7.72 1.47 1.35L5.41 20z\"/>\n",
              "  </svg>\n",
              "      </button>\n",
              "      \n",
              "  <style>\n",
              "    .colab-df-container {\n",
              "      display:flex;\n",
              "      flex-wrap:wrap;\n",
              "      gap: 12px;\n",
              "    }\n",
              "\n",
              "    .colab-df-convert {\n",
              "      background-color: #E8F0FE;\n",
              "      border: none;\n",
              "      border-radius: 50%;\n",
              "      cursor: pointer;\n",
              "      display: none;\n",
              "      fill: #1967D2;\n",
              "      height: 32px;\n",
              "      padding: 0 0 0 0;\n",
              "      width: 32px;\n",
              "    }\n",
              "\n",
              "    .colab-df-convert:hover {\n",
              "      background-color: #E2EBFA;\n",
              "      box-shadow: 0px 1px 2px rgba(60, 64, 67, 0.3), 0px 1px 3px 1px rgba(60, 64, 67, 0.15);\n",
              "      fill: #174EA6;\n",
              "    }\n",
              "\n",
              "    [theme=dark] .colab-df-convert {\n",
              "      background-color: #3B4455;\n",
              "      fill: #D2E3FC;\n",
              "    }\n",
              "\n",
              "    [theme=dark] .colab-df-convert:hover {\n",
              "      background-color: #434B5C;\n",
              "      box-shadow: 0px 1px 3px 1px rgba(0, 0, 0, 0.15);\n",
              "      filter: drop-shadow(0px 1px 2px rgba(0, 0, 0, 0.3));\n",
              "      fill: #FFFFFF;\n",
              "    }\n",
              "  </style>\n",
              "\n",
              "      <script>\n",
              "        const buttonEl =\n",
              "          document.querySelector('#df-f2f8a497-6226-4060-9918-c910bc9e69d9 button.colab-df-convert');\n",
              "        buttonEl.style.display =\n",
              "          google.colab.kernel.accessAllowed ? 'block' : 'none';\n",
              "\n",
              "        async function convertToInteractive(key) {\n",
              "          const element = document.querySelector('#df-f2f8a497-6226-4060-9918-c910bc9e69d9');\n",
              "          const dataTable =\n",
              "            await google.colab.kernel.invokeFunction('convertToInteractive',\n",
              "                                                     [key], {});\n",
              "          if (!dataTable) return;\n",
              "\n",
              "          const docLinkHtml = 'Like what you see? Visit the ' +\n",
              "            '<a target=\"_blank\" href=https://colab.research.google.com/notebooks/data_table.ipynb>data table notebook</a>'\n",
              "            + ' to learn more about interactive tables.';\n",
              "          element.innerHTML = '';\n",
              "          dataTable['output_type'] = 'display_data';\n",
              "          await google.colab.output.renderOutput(dataTable, element);\n",
              "          const docLink = document.createElement('div');\n",
              "          docLink.innerHTML = docLinkHtml;\n",
              "          element.appendChild(docLink);\n",
              "        }\n",
              "      </script>\n",
              "    </div>\n",
              "  </div>\n",
              "  "
            ]
          },
          "metadata": {},
          "execution_count": 223
        }
      ]
    },
    {
      "cell_type": "markdown",
      "source": [
        "##*This is data cleaning and Exploratory data analysis part*"
      ],
      "metadata": {
        "id": "my1yMXw2k2Ur"
      }
    },
    {
      "cell_type": "code",
      "source": [
        "print(f\"Total number of rows {data.shape[0]} and total number of columns is {data.shape[1]}\")\n"
      ],
      "metadata": {
        "colab": {
          "base_uri": "https://localhost:8080/"
        },
        "id": "zSITlFiFkPud",
        "outputId": "a3860dbe-45fa-42b2-b2f3-241ccb6be026"
      },
      "execution_count": 224,
      "outputs": [
        {
          "output_type": "stream",
          "name": "stdout",
          "text": [
            "Total number of rows 404290 and total number of columns is 6\n"
          ]
        }
      ]
    },
    {
      "cell_type": "code",
      "source": [
        "\n",
        "#After cleaning we can check total number of null values\n",
        "data.isna().sum()"
      ],
      "metadata": {
        "colab": {
          "base_uri": "https://localhost:8080/"
        },
        "id": "yv9m1iMPkTG_",
        "outputId": "a41888e6-c070-4f8b-f036-90431965a015"
      },
      "execution_count": 317,
      "outputs": [
        {
          "output_type": "execute_result",
          "data": {
            "text/plain": [
              "is_duplicate              0\n",
              "preprocessed_question1    0\n",
              "preprocessed_question2    0\n",
              "letter_count_q1           0\n",
              "letter_count_q2           0\n",
              "total_letter_count        0\n",
              "word_count_question1      0\n",
              "word_count_question2      0\n",
              "diff_in_words             0\n",
              "total_words               0\n",
              "common_words_sim          0\n",
              "fuzzy_ratio               0\n",
              "fuzzy_partial_ratio       0\n",
              "fuzzy_token_sort_ratio    0\n",
              "fuzzy_token_set_ratio     0\n",
              "cwc_min                   0\n",
              "cwc_max                   0\n",
              "dtype: int64"
            ]
          },
          "metadata": {},
          "execution_count": 317
        }
      ]
    },
    {
      "cell_type": "code",
      "source": [
        "data.info()"
      ],
      "metadata": {
        "colab": {
          "base_uri": "https://localhost:8080/"
        },
        "id": "IhjRQZ1Lk1Kw",
        "outputId": "ec5823bc-7ab2-4dc5-a0cb-a86bfd4e1360"
      },
      "execution_count": 316,
      "outputs": [
        {
          "output_type": "stream",
          "name": "stdout",
          "text": [
            "<class 'pandas.core.frame.DataFrame'>\n",
            "Int64Index: 404287 entries, 0 to 404289\n",
            "Data columns (total 17 columns):\n",
            " #   Column                  Non-Null Count   Dtype  \n",
            "---  ------                  --------------   -----  \n",
            " 0   is_duplicate            404287 non-null  int64  \n",
            " 1   preprocessed_question1  404287 non-null  object \n",
            " 2   preprocessed_question2  404287 non-null  object \n",
            " 3   letter_count_q1         404287 non-null  int64  \n",
            " 4   letter_count_q2         404287 non-null  int64  \n",
            " 5   total_letter_count      404287 non-null  int64  \n",
            " 6   word_count_question1    404287 non-null  int64  \n",
            " 7   word_count_question2    404287 non-null  int64  \n",
            " 8   diff_in_words           404287 non-null  int64  \n",
            " 9   total_words             404287 non-null  int64  \n",
            " 10  common_words_sim        404287 non-null  float64\n",
            " 11  fuzzy_ratio             404287 non-null  float64\n",
            " 12  fuzzy_partial_ratio     404287 non-null  float64\n",
            " 13  fuzzy_token_sort_ratio  404287 non-null  float64\n",
            " 14  fuzzy_token_set_ratio   404287 non-null  float64\n",
            " 15  cwc_min                 404287 non-null  float64\n",
            " 16  cwc_max                 404287 non-null  float64\n",
            "dtypes: float64(7), int64(8), object(2)\n",
            "memory usage: 71.6+ MB\n"
          ]
        }
      ]
    },
    {
      "cell_type": "code",
      "source": [
        "data.get('is_duplicate').value_counts()"
      ],
      "metadata": {
        "colab": {
          "base_uri": "https://localhost:8080/"
        },
        "id": "T2_u7ko0lTO_",
        "outputId": "8871b8ed-8a8b-4a68-ad19-84be9f241d27"
      },
      "execution_count": 227,
      "outputs": [
        {
          "output_type": "execute_result",
          "data": {
            "text/plain": [
              "0    255024\n",
              "1    149263\n",
              "Name: is_duplicate, dtype: int64"
            ]
          },
          "metadata": {},
          "execution_count": 227
        }
      ]
    },
    {
      "cell_type": "code",
      "source": [
        "sns.histplot(data=data,x='is_duplicate',bins=2,hue='is_duplicate')\n",
        "plt.show()"
      ],
      "metadata": {
        "id": "ZscWhrkXl9Vd"
      },
      "execution_count": null,
      "outputs": []
    },
    {
      "cell_type": "code",
      "source": [
        "#This can have thress types of data\n",
        "#puncuatation marks removal\n",
        "#Html tag removals\n",
        "def decontracted(phrase):\n",
        "    # specific\n",
        "    phrase = re.sub(r\"won\\'t\", \"will not\", phrase)\n",
        "    phrase = re.sub(r\"can\\'t\", \"can not\", phrase)\n",
        "\n",
        "    # general\n",
        "    phrase = re.sub(r\"n\\'t\", \" not\", phrase)\n",
        "    phrase = re.sub(r\"\\'re\", \" are\", phrase)\n",
        "    phrase = re.sub(r\"\\'s\", \" is\", phrase)\n",
        "    phrase = re.sub(r\"\\'d\", \" would\", phrase)\n",
        "    phrase = re.sub(r\"\\'ll\", \" will\", phrase)\n",
        "    phrase = re.sub(r\"\\'t\", \" not\", phrase)\n",
        "    phrase = re.sub(r\"\\'ve\", \" have\", phrase)\n",
        "    phrase = re.sub(r\"\\'m\", \" am\", phrase)\n",
        "    return phrase\n",
        "#English stop words are imported\n",
        "#Stemmer has also been instantiated but not used\n",
        "stop_word=stopwords.words('english')\n",
        "def preprocessing(sentence):\n",
        "  #In first phase we will do the decontraction of the words\n",
        "  sentence=decontracted(sentence)\n",
        "  #We will remove any html tags\n",
        "  sentence=BeautifulSoup(sentence,'lxml').get_text()\n",
        "  #Now we will remove the special characters\n",
        "  sentence=re.sub('[^a-zA-Z]+',' ',sentence)\n",
        "  #Also remove the number we have\n",
        "  sentence=re.sub('\\d+','',sentence)\n",
        "  #Now we will remove\n",
        "  sentence=' '.join([word.lower() for word in sentence.split() if word.lower() not in stop_word])\n",
        "  return sentence"
      ],
      "metadata": {
        "id": "W6tViKS4pGGp",
        "colab": {
          "base_uri": "https://localhost:8080/",
          "height": 242
        },
        "outputId": "2799f886-93fb-49e8-c2fd-5ba723eb7636"
      },
      "execution_count": 1,
      "outputs": [
        {
          "output_type": "error",
          "ename": "NameError",
          "evalue": "ignored",
          "traceback": [
            "\u001b[0;31m---------------------------------------------------------------------------\u001b[0m",
            "\u001b[0;31mNameError\u001b[0m                                 Traceback (most recent call last)",
            "\u001b[0;32m<ipython-input-1-92f640ced797>\u001b[0m in \u001b[0;36m<module>\u001b[0;34m()\u001b[0m\n\u001b[1;32m     19\u001b[0m \u001b[0;31m#English stop words are imported\u001b[0m\u001b[0;34m\u001b[0m\u001b[0;34m\u001b[0m\u001b[0;34m\u001b[0m\u001b[0m\n\u001b[1;32m     20\u001b[0m \u001b[0;31m#Stemmer has also been instantiated but not used\u001b[0m\u001b[0;34m\u001b[0m\u001b[0;34m\u001b[0m\u001b[0;34m\u001b[0m\u001b[0m\n\u001b[0;32m---> 21\u001b[0;31m \u001b[0mstop_word\u001b[0m\u001b[0;34m=\u001b[0m\u001b[0mstopwords\u001b[0m\u001b[0;34m.\u001b[0m\u001b[0mwords\u001b[0m\u001b[0;34m(\u001b[0m\u001b[0;34m'english'\u001b[0m\u001b[0;34m)\u001b[0m\u001b[0;34m\u001b[0m\u001b[0;34m\u001b[0m\u001b[0m\n\u001b[0m\u001b[1;32m     22\u001b[0m \u001b[0mstemmer\u001b[0m\u001b[0;34m=\u001b[0m\u001b[0mSnowballStemmer\u001b[0m\u001b[0;34m(\u001b[0m\u001b[0;34m'english'\u001b[0m\u001b[0;34m)\u001b[0m\u001b[0;34m\u001b[0m\u001b[0;34m\u001b[0m\u001b[0m\n\u001b[1;32m     23\u001b[0m \u001b[0;32mdef\u001b[0m \u001b[0mpreprocessing\u001b[0m\u001b[0;34m(\u001b[0m\u001b[0msentence\u001b[0m\u001b[0;34m)\u001b[0m\u001b[0;34m:\u001b[0m\u001b[0;34m\u001b[0m\u001b[0;34m\u001b[0m\u001b[0m\n",
            "\u001b[0;31mNameError\u001b[0m: name 'stopwords' is not defined"
          ]
        }
      ]
    },
    {
      "cell_type": "code",
      "source": [
        "from preprocessing_text_new1_1 import preprocessing\n",
        "#Test case\n",
        "sentence=\"\"\" not this these after before Find the remainder _____  hbcjhxbv hsfjshd jkshdjkfbabgsd thinks when [math]23^{24}[/math] ____ not fought very hard\"\"\"\n",
        "preprocessing(sentence)"
      ],
      "metadata": {
        "colab": {
          "base_uri": "https://localhost:8080/",
          "height": 36
        },
        "id": "K2g52beGpma0",
        "outputId": "806d7c23-f2a1-4cac-9488-79927b85f7a7"
      },
      "execution_count": 247,
      "outputs": [
        {
          "output_type": "execute_result",
          "data": {
            "text/plain": [
              "'not find remainder hbcjhxbv hsfjshd jkshdjkfbabgsd think math math not fight hard'"
            ],
            "application/vnd.google.colaboratory.intrinsic+json": {
              "type": "string"
            }
          },
          "metadata": {},
          "execution_count": 247
        }
      ]
    },
    {
      "cell_type": "code",
      "source": [
        "#This is an import code for regex expression\n",
        "def dashrepl(matchobj):\n",
        "    print(matchobj.group(0))\n",
        "    if matchobj.group(0) == '-': return ' '\n",
        "    else: return '-'\n",
        "re.sub('({})'.format('|'.join(contractions_dict.keys())),dashrepl, 'pro----gramm-files don\\'t his',)"
      ],
      "metadata": {
        "id": "nm-7NEsMysY6"
      },
      "execution_count": null,
      "outputs": []
    },
    {
      "cell_type": "code",
      "source": [
        "#Now we will be applying the txt preproccesssing\n",
        "data['preprocessed_question1']=data.get('question1').apply(preprocessing)\n",
        "data['preprocessed_question2']=data.get('question2').apply(preprocessing)\n",
        "data.head(10)"
      ],
      "metadata": {
        "id": "1PtaNFQ0ywxe"
      },
      "execution_count": null,
      "outputs": []
    },
    {
      "cell_type": "code",
      "source": [
        "#small basic features\n",
        "data['letter_count_q1']=data.get('preprocessed_question1').apply(len)\n",
        "data['letter_count_q2']=data.get('preprocessed_question2').apply(len)\n",
        "data['total_letter_count']=data.get('letter_count_q1')+data.get('letter_count_q2')\n",
        "data.head(5)"
      ],
      "metadata": {
        "colab": {
          "base_uri": "https://localhost:8080/",
          "height": 687
        },
        "id": "_aVGPCL2oBxM",
        "outputId": "f711a0e3-cf92-4c68-8fbc-40a0d69ad192"
      },
      "execution_count": 251,
      "outputs": [
        {
          "output_type": "execute_result",
          "data": {
            "text/plain": [
              "   id  qid1  qid2                                          question1  \\\n",
              "0   0     1     2  What is the step by step guide to invest in sh...   \n",
              "1   1     3     4  What is the story of Kohinoor (Koh-i-Noor) Dia...   \n",
              "2   2     5     6  How can I increase the speed of my internet co...   \n",
              "3   3     7     8  Why am I mentally very lonely? How can I solve...   \n",
              "4   4     9    10  Which one dissolve in water quikly sugar, salt...   \n",
              "\n",
              "                                           question2  is_duplicate  \\\n",
              "0  What is the step by step guide to invest in sh...             0   \n",
              "1  What would happen if the Indian government sto...             0   \n",
              "2  How can Internet speed be increased by hacking...             0   \n",
              "3  Find the remainder when [math]23^{24}[/math] i...             0   \n",
              "4            Which fish would survive in salt water?             0   \n",
              "\n",
              "                              preprocessed_question1  \\\n",
              "0          step step guide invest share market india   \n",
              "1                    story kohinoor koh noor diamond   \n",
              "2   can increase speed internet connection using vpn   \n",
              "3                          mentally lonely can solve   \n",
              "4  one dissolve water quikly sugar salt methane c...   \n",
              "\n",
              "                              preprocessed_question2  letter_count_q1  \\\n",
              "0                step step guide invest share market               41   \n",
              "1  would happen indian government stole kohinoor ...               31   \n",
              "2               can internet speed increase hack dns               48   \n",
              "3                    find remainder math math divide               25   \n",
              "4                      fish would survive salt water               60   \n",
              "\n",
              "   letter_count_q2  total_letter_count  \n",
              "0               35                  76  \n",
              "1               67                  98  \n",
              "2               36                  84  \n",
              "3               31                  56  \n",
              "4               29                  89  "
            ],
            "text/html": [
              "\n",
              "  <div id=\"df-296deff8-e18e-48fd-bc9d-576ad29762e5\">\n",
              "    <div class=\"colab-df-container\">\n",
              "      <div>\n",
              "<style scoped>\n",
              "    .dataframe tbody tr th:only-of-type {\n",
              "        vertical-align: middle;\n",
              "    }\n",
              "\n",
              "    .dataframe tbody tr th {\n",
              "        vertical-align: top;\n",
              "    }\n",
              "\n",
              "    .dataframe thead th {\n",
              "        text-align: right;\n",
              "    }\n",
              "</style>\n",
              "<table border=\"1\" class=\"dataframe\">\n",
              "  <thead>\n",
              "    <tr style=\"text-align: right;\">\n",
              "      <th></th>\n",
              "      <th>id</th>\n",
              "      <th>qid1</th>\n",
              "      <th>qid2</th>\n",
              "      <th>question1</th>\n",
              "      <th>question2</th>\n",
              "      <th>is_duplicate</th>\n",
              "      <th>preprocessed_question1</th>\n",
              "      <th>preprocessed_question2</th>\n",
              "      <th>letter_count_q1</th>\n",
              "      <th>letter_count_q2</th>\n",
              "      <th>total_letter_count</th>\n",
              "    </tr>\n",
              "  </thead>\n",
              "  <tbody>\n",
              "    <tr>\n",
              "      <th>0</th>\n",
              "      <td>0</td>\n",
              "      <td>1</td>\n",
              "      <td>2</td>\n",
              "      <td>What is the step by step guide to invest in sh...</td>\n",
              "      <td>What is the step by step guide to invest in sh...</td>\n",
              "      <td>0</td>\n",
              "      <td>step step guide invest share market india</td>\n",
              "      <td>step step guide invest share market</td>\n",
              "      <td>41</td>\n",
              "      <td>35</td>\n",
              "      <td>76</td>\n",
              "    </tr>\n",
              "    <tr>\n",
              "      <th>1</th>\n",
              "      <td>1</td>\n",
              "      <td>3</td>\n",
              "      <td>4</td>\n",
              "      <td>What is the story of Kohinoor (Koh-i-Noor) Dia...</td>\n",
              "      <td>What would happen if the Indian government sto...</td>\n",
              "      <td>0</td>\n",
              "      <td>story kohinoor koh noor diamond</td>\n",
              "      <td>would happen indian government stole kohinoor ...</td>\n",
              "      <td>31</td>\n",
              "      <td>67</td>\n",
              "      <td>98</td>\n",
              "    </tr>\n",
              "    <tr>\n",
              "      <th>2</th>\n",
              "      <td>2</td>\n",
              "      <td>5</td>\n",
              "      <td>6</td>\n",
              "      <td>How can I increase the speed of my internet co...</td>\n",
              "      <td>How can Internet speed be increased by hacking...</td>\n",
              "      <td>0</td>\n",
              "      <td>can increase speed internet connection using vpn</td>\n",
              "      <td>can internet speed increase hack dns</td>\n",
              "      <td>48</td>\n",
              "      <td>36</td>\n",
              "      <td>84</td>\n",
              "    </tr>\n",
              "    <tr>\n",
              "      <th>3</th>\n",
              "      <td>3</td>\n",
              "      <td>7</td>\n",
              "      <td>8</td>\n",
              "      <td>Why am I mentally very lonely? How can I solve...</td>\n",
              "      <td>Find the remainder when [math]23^{24}[/math] i...</td>\n",
              "      <td>0</td>\n",
              "      <td>mentally lonely can solve</td>\n",
              "      <td>find remainder math math divide</td>\n",
              "      <td>25</td>\n",
              "      <td>31</td>\n",
              "      <td>56</td>\n",
              "    </tr>\n",
              "    <tr>\n",
              "      <th>4</th>\n",
              "      <td>4</td>\n",
              "      <td>9</td>\n",
              "      <td>10</td>\n",
              "      <td>Which one dissolve in water quikly sugar, salt...</td>\n",
              "      <td>Which fish would survive in salt water?</td>\n",
              "      <td>0</td>\n",
              "      <td>one dissolve water quikly sugar salt methane c...</td>\n",
              "      <td>fish would survive salt water</td>\n",
              "      <td>60</td>\n",
              "      <td>29</td>\n",
              "      <td>89</td>\n",
              "    </tr>\n",
              "  </tbody>\n",
              "</table>\n",
              "</div>\n",
              "      <button class=\"colab-df-convert\" onclick=\"convertToInteractive('df-296deff8-e18e-48fd-bc9d-576ad29762e5')\"\n",
              "              title=\"Convert this dataframe to an interactive table.\"\n",
              "              style=\"display:none;\">\n",
              "        \n",
              "  <svg xmlns=\"http://www.w3.org/2000/svg\" height=\"24px\"viewBox=\"0 0 24 24\"\n",
              "       width=\"24px\">\n",
              "    <path d=\"M0 0h24v24H0V0z\" fill=\"none\"/>\n",
              "    <path d=\"M18.56 5.44l.94 2.06.94-2.06 2.06-.94-2.06-.94-.94-2.06-.94 2.06-2.06.94zm-11 1L8.5 8.5l.94-2.06 2.06-.94-2.06-.94L8.5 2.5l-.94 2.06-2.06.94zm10 10l.94 2.06.94-2.06 2.06-.94-2.06-.94-.94-2.06-.94 2.06-2.06.94z\"/><path d=\"M17.41 7.96l-1.37-1.37c-.4-.4-.92-.59-1.43-.59-.52 0-1.04.2-1.43.59L10.3 9.45l-7.72 7.72c-.78.78-.78 2.05 0 2.83L4 21.41c.39.39.9.59 1.41.59.51 0 1.02-.2 1.41-.59l7.78-7.78 2.81-2.81c.8-.78.8-2.07 0-2.86zM5.41 20L4 18.59l7.72-7.72 1.47 1.35L5.41 20z\"/>\n",
              "  </svg>\n",
              "      </button>\n",
              "      \n",
              "  <style>\n",
              "    .colab-df-container {\n",
              "      display:flex;\n",
              "      flex-wrap:wrap;\n",
              "      gap: 12px;\n",
              "    }\n",
              "\n",
              "    .colab-df-convert {\n",
              "      background-color: #E8F0FE;\n",
              "      border: none;\n",
              "      border-radius: 50%;\n",
              "      cursor: pointer;\n",
              "      display: none;\n",
              "      fill: #1967D2;\n",
              "      height: 32px;\n",
              "      padding: 0 0 0 0;\n",
              "      width: 32px;\n",
              "    }\n",
              "\n",
              "    .colab-df-convert:hover {\n",
              "      background-color: #E2EBFA;\n",
              "      box-shadow: 0px 1px 2px rgba(60, 64, 67, 0.3), 0px 1px 3px 1px rgba(60, 64, 67, 0.15);\n",
              "      fill: #174EA6;\n",
              "    }\n",
              "\n",
              "    [theme=dark] .colab-df-convert {\n",
              "      background-color: #3B4455;\n",
              "      fill: #D2E3FC;\n",
              "    }\n",
              "\n",
              "    [theme=dark] .colab-df-convert:hover {\n",
              "      background-color: #434B5C;\n",
              "      box-shadow: 0px 1px 3px 1px rgba(0, 0, 0, 0.15);\n",
              "      filter: drop-shadow(0px 1px 2px rgba(0, 0, 0, 0.3));\n",
              "      fill: #FFFFFF;\n",
              "    }\n",
              "  </style>\n",
              "\n",
              "      <script>\n",
              "        const buttonEl =\n",
              "          document.querySelector('#df-296deff8-e18e-48fd-bc9d-576ad29762e5 button.colab-df-convert');\n",
              "        buttonEl.style.display =\n",
              "          google.colab.kernel.accessAllowed ? 'block' : 'none';\n",
              "\n",
              "        async function convertToInteractive(key) {\n",
              "          const element = document.querySelector('#df-296deff8-e18e-48fd-bc9d-576ad29762e5');\n",
              "          const dataTable =\n",
              "            await google.colab.kernel.invokeFunction('convertToInteractive',\n",
              "                                                     [key], {});\n",
              "          if (!dataTable) return;\n",
              "\n",
              "          const docLinkHtml = 'Like what you see? Visit the ' +\n",
              "            '<a target=\"_blank\" href=https://colab.research.google.com/notebooks/data_table.ipynb>data table notebook</a>'\n",
              "            + ' to learn more about interactive tables.';\n",
              "          element.innerHTML = '';\n",
              "          dataTable['output_type'] = 'display_data';\n",
              "          await google.colab.output.renderOutput(dataTable, element);\n",
              "          const docLink = document.createElement('div');\n",
              "          docLink.innerHTML = docLinkHtml;\n",
              "          element.appendChild(docLink);\n",
              "        }\n",
              "      </script>\n",
              "    </div>\n",
              "  </div>\n",
              "  "
            ]
          },
          "metadata": {},
          "execution_count": 251
        }
      ]
    },
    {
      "cell_type": "code",
      "source": [
        "sns.kdeplot(data=data,x='letter_count_q1',hue='is_duplicate',multiple='stack')\n",
        "plt.show()\n",
        "sns.kdeplot(data=data,x='letter_count_q2',hue='is_duplicate',multiple='stack')\n",
        "plt.show()"
      ],
      "metadata": {
        "id": "_iTVG_hkqJh1"
      },
      "execution_count": null,
      "outputs": []
    },
    {
      "cell_type": "code",
      "source": [
        "data['word_count_question1']=data.get('preprocessed_question1').apply(lambda x:len(x.split()))\n",
        "data['word_count_question2']=data.get('preprocessed_question2').apply(lambda x:len(x.split()))\n",
        "data.head(5)"
      ],
      "metadata": {
        "colab": {
          "base_uri": "https://localhost:8080/",
          "height": 687
        },
        "id": "JAEv3vIxp6tk",
        "outputId": "1fb4d181-f6c2-4ad6-ed88-69cb7a966600"
      },
      "execution_count": 252,
      "outputs": [
        {
          "output_type": "execute_result",
          "data": {
            "text/plain": [
              "   id  qid1  qid2                                          question1  \\\n",
              "0   0     1     2  What is the step by step guide to invest in sh...   \n",
              "1   1     3     4  What is the story of Kohinoor (Koh-i-Noor) Dia...   \n",
              "2   2     5     6  How can I increase the speed of my internet co...   \n",
              "3   3     7     8  Why am I mentally very lonely? How can I solve...   \n",
              "4   4     9    10  Which one dissolve in water quikly sugar, salt...   \n",
              "\n",
              "                                           question2  is_duplicate  \\\n",
              "0  What is the step by step guide to invest in sh...             0   \n",
              "1  What would happen if the Indian government sto...             0   \n",
              "2  How can Internet speed be increased by hacking...             0   \n",
              "3  Find the remainder when [math]23^{24}[/math] i...             0   \n",
              "4            Which fish would survive in salt water?             0   \n",
              "\n",
              "                              preprocessed_question1  \\\n",
              "0          step step guide invest share market india   \n",
              "1                    story kohinoor koh noor diamond   \n",
              "2   can increase speed internet connection using vpn   \n",
              "3                          mentally lonely can solve   \n",
              "4  one dissolve water quikly sugar salt methane c...   \n",
              "\n",
              "                              preprocessed_question2  letter_count_q1  \\\n",
              "0                step step guide invest share market               41   \n",
              "1  would happen indian government stole kohinoor ...               31   \n",
              "2               can internet speed increase hack dns               48   \n",
              "3                    find remainder math math divide               25   \n",
              "4                      fish would survive salt water               60   \n",
              "\n",
              "   letter_count_q2  total_letter_count  word_count_question1  \\\n",
              "0               35                  76                     7   \n",
              "1               67                  98                     5   \n",
              "2               36                  84                     7   \n",
              "3               31                  56                     4   \n",
              "4               29                  89                    10   \n",
              "\n",
              "   word_count_question2  \n",
              "0                     6  \n",
              "1                    10  \n",
              "2                     6  \n",
              "3                     5  \n",
              "4                     5  "
            ],
            "text/html": [
              "\n",
              "  <div id=\"df-6a7eab02-7d73-409b-a977-6c558b485112\">\n",
              "    <div class=\"colab-df-container\">\n",
              "      <div>\n",
              "<style scoped>\n",
              "    .dataframe tbody tr th:only-of-type {\n",
              "        vertical-align: middle;\n",
              "    }\n",
              "\n",
              "    .dataframe tbody tr th {\n",
              "        vertical-align: top;\n",
              "    }\n",
              "\n",
              "    .dataframe thead th {\n",
              "        text-align: right;\n",
              "    }\n",
              "</style>\n",
              "<table border=\"1\" class=\"dataframe\">\n",
              "  <thead>\n",
              "    <tr style=\"text-align: right;\">\n",
              "      <th></th>\n",
              "      <th>id</th>\n",
              "      <th>qid1</th>\n",
              "      <th>qid2</th>\n",
              "      <th>question1</th>\n",
              "      <th>question2</th>\n",
              "      <th>is_duplicate</th>\n",
              "      <th>preprocessed_question1</th>\n",
              "      <th>preprocessed_question2</th>\n",
              "      <th>letter_count_q1</th>\n",
              "      <th>letter_count_q2</th>\n",
              "      <th>total_letter_count</th>\n",
              "      <th>word_count_question1</th>\n",
              "      <th>word_count_question2</th>\n",
              "    </tr>\n",
              "  </thead>\n",
              "  <tbody>\n",
              "    <tr>\n",
              "      <th>0</th>\n",
              "      <td>0</td>\n",
              "      <td>1</td>\n",
              "      <td>2</td>\n",
              "      <td>What is the step by step guide to invest in sh...</td>\n",
              "      <td>What is the step by step guide to invest in sh...</td>\n",
              "      <td>0</td>\n",
              "      <td>step step guide invest share market india</td>\n",
              "      <td>step step guide invest share market</td>\n",
              "      <td>41</td>\n",
              "      <td>35</td>\n",
              "      <td>76</td>\n",
              "      <td>7</td>\n",
              "      <td>6</td>\n",
              "    </tr>\n",
              "    <tr>\n",
              "      <th>1</th>\n",
              "      <td>1</td>\n",
              "      <td>3</td>\n",
              "      <td>4</td>\n",
              "      <td>What is the story of Kohinoor (Koh-i-Noor) Dia...</td>\n",
              "      <td>What would happen if the Indian government sto...</td>\n",
              "      <td>0</td>\n",
              "      <td>story kohinoor koh noor diamond</td>\n",
              "      <td>would happen indian government stole kohinoor ...</td>\n",
              "      <td>31</td>\n",
              "      <td>67</td>\n",
              "      <td>98</td>\n",
              "      <td>5</td>\n",
              "      <td>10</td>\n",
              "    </tr>\n",
              "    <tr>\n",
              "      <th>2</th>\n",
              "      <td>2</td>\n",
              "      <td>5</td>\n",
              "      <td>6</td>\n",
              "      <td>How can I increase the speed of my internet co...</td>\n",
              "      <td>How can Internet speed be increased by hacking...</td>\n",
              "      <td>0</td>\n",
              "      <td>can increase speed internet connection using vpn</td>\n",
              "      <td>can internet speed increase hack dns</td>\n",
              "      <td>48</td>\n",
              "      <td>36</td>\n",
              "      <td>84</td>\n",
              "      <td>7</td>\n",
              "      <td>6</td>\n",
              "    </tr>\n",
              "    <tr>\n",
              "      <th>3</th>\n",
              "      <td>3</td>\n",
              "      <td>7</td>\n",
              "      <td>8</td>\n",
              "      <td>Why am I mentally very lonely? How can I solve...</td>\n",
              "      <td>Find the remainder when [math]23^{24}[/math] i...</td>\n",
              "      <td>0</td>\n",
              "      <td>mentally lonely can solve</td>\n",
              "      <td>find remainder math math divide</td>\n",
              "      <td>25</td>\n",
              "      <td>31</td>\n",
              "      <td>56</td>\n",
              "      <td>4</td>\n",
              "      <td>5</td>\n",
              "    </tr>\n",
              "    <tr>\n",
              "      <th>4</th>\n",
              "      <td>4</td>\n",
              "      <td>9</td>\n",
              "      <td>10</td>\n",
              "      <td>Which one dissolve in water quikly sugar, salt...</td>\n",
              "      <td>Which fish would survive in salt water?</td>\n",
              "      <td>0</td>\n",
              "      <td>one dissolve water quikly sugar salt methane c...</td>\n",
              "      <td>fish would survive salt water</td>\n",
              "      <td>60</td>\n",
              "      <td>29</td>\n",
              "      <td>89</td>\n",
              "      <td>10</td>\n",
              "      <td>5</td>\n",
              "    </tr>\n",
              "  </tbody>\n",
              "</table>\n",
              "</div>\n",
              "      <button class=\"colab-df-convert\" onclick=\"convertToInteractive('df-6a7eab02-7d73-409b-a977-6c558b485112')\"\n",
              "              title=\"Convert this dataframe to an interactive table.\"\n",
              "              style=\"display:none;\">\n",
              "        \n",
              "  <svg xmlns=\"http://www.w3.org/2000/svg\" height=\"24px\"viewBox=\"0 0 24 24\"\n",
              "       width=\"24px\">\n",
              "    <path d=\"M0 0h24v24H0V0z\" fill=\"none\"/>\n",
              "    <path d=\"M18.56 5.44l.94 2.06.94-2.06 2.06-.94-2.06-.94-.94-2.06-.94 2.06-2.06.94zm-11 1L8.5 8.5l.94-2.06 2.06-.94-2.06-.94L8.5 2.5l-.94 2.06-2.06.94zm10 10l.94 2.06.94-2.06 2.06-.94-2.06-.94-.94-2.06-.94 2.06-2.06.94z\"/><path d=\"M17.41 7.96l-1.37-1.37c-.4-.4-.92-.59-1.43-.59-.52 0-1.04.2-1.43.59L10.3 9.45l-7.72 7.72c-.78.78-.78 2.05 0 2.83L4 21.41c.39.39.9.59 1.41.59.51 0 1.02-.2 1.41-.59l7.78-7.78 2.81-2.81c.8-.78.8-2.07 0-2.86zM5.41 20L4 18.59l7.72-7.72 1.47 1.35L5.41 20z\"/>\n",
              "  </svg>\n",
              "      </button>\n",
              "      \n",
              "  <style>\n",
              "    .colab-df-container {\n",
              "      display:flex;\n",
              "      flex-wrap:wrap;\n",
              "      gap: 12px;\n",
              "    }\n",
              "\n",
              "    .colab-df-convert {\n",
              "      background-color: #E8F0FE;\n",
              "      border: none;\n",
              "      border-radius: 50%;\n",
              "      cursor: pointer;\n",
              "      display: none;\n",
              "      fill: #1967D2;\n",
              "      height: 32px;\n",
              "      padding: 0 0 0 0;\n",
              "      width: 32px;\n",
              "    }\n",
              "\n",
              "    .colab-df-convert:hover {\n",
              "      background-color: #E2EBFA;\n",
              "      box-shadow: 0px 1px 2px rgba(60, 64, 67, 0.3), 0px 1px 3px 1px rgba(60, 64, 67, 0.15);\n",
              "      fill: #174EA6;\n",
              "    }\n",
              "\n",
              "    [theme=dark] .colab-df-convert {\n",
              "      background-color: #3B4455;\n",
              "      fill: #D2E3FC;\n",
              "    }\n",
              "\n",
              "    [theme=dark] .colab-df-convert:hover {\n",
              "      background-color: #434B5C;\n",
              "      box-shadow: 0px 1px 3px 1px rgba(0, 0, 0, 0.15);\n",
              "      filter: drop-shadow(0px 1px 2px rgba(0, 0, 0, 0.3));\n",
              "      fill: #FFFFFF;\n",
              "    }\n",
              "  </style>\n",
              "\n",
              "      <script>\n",
              "        const buttonEl =\n",
              "          document.querySelector('#df-6a7eab02-7d73-409b-a977-6c558b485112 button.colab-df-convert');\n",
              "        buttonEl.style.display =\n",
              "          google.colab.kernel.accessAllowed ? 'block' : 'none';\n",
              "\n",
              "        async function convertToInteractive(key) {\n",
              "          const element = document.querySelector('#df-6a7eab02-7d73-409b-a977-6c558b485112');\n",
              "          const dataTable =\n",
              "            await google.colab.kernel.invokeFunction('convertToInteractive',\n",
              "                                                     [key], {});\n",
              "          if (!dataTable) return;\n",
              "\n",
              "          const docLinkHtml = 'Like what you see? Visit the ' +\n",
              "            '<a target=\"_blank\" href=https://colab.research.google.com/notebooks/data_table.ipynb>data table notebook</a>'\n",
              "            + ' to learn more about interactive tables.';\n",
              "          element.innerHTML = '';\n",
              "          dataTable['output_type'] = 'display_data';\n",
              "          await google.colab.output.renderOutput(dataTable, element);\n",
              "          const docLink = document.createElement('div');\n",
              "          docLink.innerHTML = docLinkHtml;\n",
              "          element.appendChild(docLink);\n",
              "        }\n",
              "      </script>\n",
              "    </div>\n",
              "  </div>\n",
              "  "
            ]
          },
          "metadata": {},
          "execution_count": 252
        }
      ]
    },
    {
      "cell_type": "code",
      "source": [
        "data['diff_in_words']=abs(data.get('word_count_question1')-data.get('word_count_question2'))\n",
        "data['total_words']=data.get('word_count_question1')+data.get('word_count_question2')\n",
        "data.head(5)"
      ],
      "metadata": {
        "colab": {
          "base_uri": "https://localhost:8080/",
          "height": 687
        },
        "id": "cYq1lVw0ujf4",
        "outputId": "82645b5a-8f20-42bc-c5b4-c9d905ded6d6"
      },
      "execution_count": 253,
      "outputs": [
        {
          "output_type": "execute_result",
          "data": {
            "text/plain": [
              "   id  qid1  qid2                                          question1  \\\n",
              "0   0     1     2  What is the step by step guide to invest in sh...   \n",
              "1   1     3     4  What is the story of Kohinoor (Koh-i-Noor) Dia...   \n",
              "2   2     5     6  How can I increase the speed of my internet co...   \n",
              "3   3     7     8  Why am I mentally very lonely? How can I solve...   \n",
              "4   4     9    10  Which one dissolve in water quikly sugar, salt...   \n",
              "\n",
              "                                           question2  is_duplicate  \\\n",
              "0  What is the step by step guide to invest in sh...             0   \n",
              "1  What would happen if the Indian government sto...             0   \n",
              "2  How can Internet speed be increased by hacking...             0   \n",
              "3  Find the remainder when [math]23^{24}[/math] i...             0   \n",
              "4            Which fish would survive in salt water?             0   \n",
              "\n",
              "                              preprocessed_question1  \\\n",
              "0          step step guide invest share market india   \n",
              "1                    story kohinoor koh noor diamond   \n",
              "2   can increase speed internet connection using vpn   \n",
              "3                          mentally lonely can solve   \n",
              "4  one dissolve water quikly sugar salt methane c...   \n",
              "\n",
              "                              preprocessed_question2  letter_count_q1  \\\n",
              "0                step step guide invest share market               41   \n",
              "1  would happen indian government stole kohinoor ...               31   \n",
              "2               can internet speed increase hack dns               48   \n",
              "3                    find remainder math math divide               25   \n",
              "4                      fish would survive salt water               60   \n",
              "\n",
              "   letter_count_q2  total_letter_count  word_count_question1  \\\n",
              "0               35                  76                     7   \n",
              "1               67                  98                     5   \n",
              "2               36                  84                     7   \n",
              "3               31                  56                     4   \n",
              "4               29                  89                    10   \n",
              "\n",
              "   word_count_question2  diff_in_words  total_words  \n",
              "0                     6              1           13  \n",
              "1                    10              5           15  \n",
              "2                     6              1           13  \n",
              "3                     5              1            9  \n",
              "4                     5              5           15  "
            ],
            "text/html": [
              "\n",
              "  <div id=\"df-e3411cda-0362-4145-ba8c-c03862aedfce\">\n",
              "    <div class=\"colab-df-container\">\n",
              "      <div>\n",
              "<style scoped>\n",
              "    .dataframe tbody tr th:only-of-type {\n",
              "        vertical-align: middle;\n",
              "    }\n",
              "\n",
              "    .dataframe tbody tr th {\n",
              "        vertical-align: top;\n",
              "    }\n",
              "\n",
              "    .dataframe thead th {\n",
              "        text-align: right;\n",
              "    }\n",
              "</style>\n",
              "<table border=\"1\" class=\"dataframe\">\n",
              "  <thead>\n",
              "    <tr style=\"text-align: right;\">\n",
              "      <th></th>\n",
              "      <th>id</th>\n",
              "      <th>qid1</th>\n",
              "      <th>qid2</th>\n",
              "      <th>question1</th>\n",
              "      <th>question2</th>\n",
              "      <th>is_duplicate</th>\n",
              "      <th>preprocessed_question1</th>\n",
              "      <th>preprocessed_question2</th>\n",
              "      <th>letter_count_q1</th>\n",
              "      <th>letter_count_q2</th>\n",
              "      <th>total_letter_count</th>\n",
              "      <th>word_count_question1</th>\n",
              "      <th>word_count_question2</th>\n",
              "      <th>diff_in_words</th>\n",
              "      <th>total_words</th>\n",
              "    </tr>\n",
              "  </thead>\n",
              "  <tbody>\n",
              "    <tr>\n",
              "      <th>0</th>\n",
              "      <td>0</td>\n",
              "      <td>1</td>\n",
              "      <td>2</td>\n",
              "      <td>What is the step by step guide to invest in sh...</td>\n",
              "      <td>What is the step by step guide to invest in sh...</td>\n",
              "      <td>0</td>\n",
              "      <td>step step guide invest share market india</td>\n",
              "      <td>step step guide invest share market</td>\n",
              "      <td>41</td>\n",
              "      <td>35</td>\n",
              "      <td>76</td>\n",
              "      <td>7</td>\n",
              "      <td>6</td>\n",
              "      <td>1</td>\n",
              "      <td>13</td>\n",
              "    </tr>\n",
              "    <tr>\n",
              "      <th>1</th>\n",
              "      <td>1</td>\n",
              "      <td>3</td>\n",
              "      <td>4</td>\n",
              "      <td>What is the story of Kohinoor (Koh-i-Noor) Dia...</td>\n",
              "      <td>What would happen if the Indian government sto...</td>\n",
              "      <td>0</td>\n",
              "      <td>story kohinoor koh noor diamond</td>\n",
              "      <td>would happen indian government stole kohinoor ...</td>\n",
              "      <td>31</td>\n",
              "      <td>67</td>\n",
              "      <td>98</td>\n",
              "      <td>5</td>\n",
              "      <td>10</td>\n",
              "      <td>5</td>\n",
              "      <td>15</td>\n",
              "    </tr>\n",
              "    <tr>\n",
              "      <th>2</th>\n",
              "      <td>2</td>\n",
              "      <td>5</td>\n",
              "      <td>6</td>\n",
              "      <td>How can I increase the speed of my internet co...</td>\n",
              "      <td>How can Internet speed be increased by hacking...</td>\n",
              "      <td>0</td>\n",
              "      <td>can increase speed internet connection using vpn</td>\n",
              "      <td>can internet speed increase hack dns</td>\n",
              "      <td>48</td>\n",
              "      <td>36</td>\n",
              "      <td>84</td>\n",
              "      <td>7</td>\n",
              "      <td>6</td>\n",
              "      <td>1</td>\n",
              "      <td>13</td>\n",
              "    </tr>\n",
              "    <tr>\n",
              "      <th>3</th>\n",
              "      <td>3</td>\n",
              "      <td>7</td>\n",
              "      <td>8</td>\n",
              "      <td>Why am I mentally very lonely? How can I solve...</td>\n",
              "      <td>Find the remainder when [math]23^{24}[/math] i...</td>\n",
              "      <td>0</td>\n",
              "      <td>mentally lonely can solve</td>\n",
              "      <td>find remainder math math divide</td>\n",
              "      <td>25</td>\n",
              "      <td>31</td>\n",
              "      <td>56</td>\n",
              "      <td>4</td>\n",
              "      <td>5</td>\n",
              "      <td>1</td>\n",
              "      <td>9</td>\n",
              "    </tr>\n",
              "    <tr>\n",
              "      <th>4</th>\n",
              "      <td>4</td>\n",
              "      <td>9</td>\n",
              "      <td>10</td>\n",
              "      <td>Which one dissolve in water quikly sugar, salt...</td>\n",
              "      <td>Which fish would survive in salt water?</td>\n",
              "      <td>0</td>\n",
              "      <td>one dissolve water quikly sugar salt methane c...</td>\n",
              "      <td>fish would survive salt water</td>\n",
              "      <td>60</td>\n",
              "      <td>29</td>\n",
              "      <td>89</td>\n",
              "      <td>10</td>\n",
              "      <td>5</td>\n",
              "      <td>5</td>\n",
              "      <td>15</td>\n",
              "    </tr>\n",
              "  </tbody>\n",
              "</table>\n",
              "</div>\n",
              "      <button class=\"colab-df-convert\" onclick=\"convertToInteractive('df-e3411cda-0362-4145-ba8c-c03862aedfce')\"\n",
              "              title=\"Convert this dataframe to an interactive table.\"\n",
              "              style=\"display:none;\">\n",
              "        \n",
              "  <svg xmlns=\"http://www.w3.org/2000/svg\" height=\"24px\"viewBox=\"0 0 24 24\"\n",
              "       width=\"24px\">\n",
              "    <path d=\"M0 0h24v24H0V0z\" fill=\"none\"/>\n",
              "    <path d=\"M18.56 5.44l.94 2.06.94-2.06 2.06-.94-2.06-.94-.94-2.06-.94 2.06-2.06.94zm-11 1L8.5 8.5l.94-2.06 2.06-.94-2.06-.94L8.5 2.5l-.94 2.06-2.06.94zm10 10l.94 2.06.94-2.06 2.06-.94-2.06-.94-.94-2.06-.94 2.06-2.06.94z\"/><path d=\"M17.41 7.96l-1.37-1.37c-.4-.4-.92-.59-1.43-.59-.52 0-1.04.2-1.43.59L10.3 9.45l-7.72 7.72c-.78.78-.78 2.05 0 2.83L4 21.41c.39.39.9.59 1.41.59.51 0 1.02-.2 1.41-.59l7.78-7.78 2.81-2.81c.8-.78.8-2.07 0-2.86zM5.41 20L4 18.59l7.72-7.72 1.47 1.35L5.41 20z\"/>\n",
              "  </svg>\n",
              "      </button>\n",
              "      \n",
              "  <style>\n",
              "    .colab-df-container {\n",
              "      display:flex;\n",
              "      flex-wrap:wrap;\n",
              "      gap: 12px;\n",
              "    }\n",
              "\n",
              "    .colab-df-convert {\n",
              "      background-color: #E8F0FE;\n",
              "      border: none;\n",
              "      border-radius: 50%;\n",
              "      cursor: pointer;\n",
              "      display: none;\n",
              "      fill: #1967D2;\n",
              "      height: 32px;\n",
              "      padding: 0 0 0 0;\n",
              "      width: 32px;\n",
              "    }\n",
              "\n",
              "    .colab-df-convert:hover {\n",
              "      background-color: #E2EBFA;\n",
              "      box-shadow: 0px 1px 2px rgba(60, 64, 67, 0.3), 0px 1px 3px 1px rgba(60, 64, 67, 0.15);\n",
              "      fill: #174EA6;\n",
              "    }\n",
              "\n",
              "    [theme=dark] .colab-df-convert {\n",
              "      background-color: #3B4455;\n",
              "      fill: #D2E3FC;\n",
              "    }\n",
              "\n",
              "    [theme=dark] .colab-df-convert:hover {\n",
              "      background-color: #434B5C;\n",
              "      box-shadow: 0px 1px 3px 1px rgba(0, 0, 0, 0.15);\n",
              "      filter: drop-shadow(0px 1px 2px rgba(0, 0, 0, 0.3));\n",
              "      fill: #FFFFFF;\n",
              "    }\n",
              "  </style>\n",
              "\n",
              "      <script>\n",
              "        const buttonEl =\n",
              "          document.querySelector('#df-e3411cda-0362-4145-ba8c-c03862aedfce button.colab-df-convert');\n",
              "        buttonEl.style.display =\n",
              "          google.colab.kernel.accessAllowed ? 'block' : 'none';\n",
              "\n",
              "        async function convertToInteractive(key) {\n",
              "          const element = document.querySelector('#df-e3411cda-0362-4145-ba8c-c03862aedfce');\n",
              "          const dataTable =\n",
              "            await google.colab.kernel.invokeFunction('convertToInteractive',\n",
              "                                                     [key], {});\n",
              "          if (!dataTable) return;\n",
              "\n",
              "          const docLinkHtml = 'Like what you see? Visit the ' +\n",
              "            '<a target=\"_blank\" href=https://colab.research.google.com/notebooks/data_table.ipynb>data table notebook</a>'\n",
              "            + ' to learn more about interactive tables.';\n",
              "          element.innerHTML = '';\n",
              "          dataTable['output_type'] = 'display_data';\n",
              "          await google.colab.output.renderOutput(dataTable, element);\n",
              "          const docLink = document.createElement('div');\n",
              "          docLink.innerHTML = docLinkHtml;\n",
              "          element.appendChild(docLink);\n",
              "        }\n",
              "      </script>\n",
              "    </div>\n",
              "  </div>\n",
              "  "
            ]
          },
          "metadata": {},
          "execution_count": 253
        }
      ]
    },
    {
      "cell_type": "code",
      "source": [
        "sns.kdeplot(data=data,x='diff_in_words',hue='is_duplicate')\n",
        "plt.show()\n",
        "sns.kdeplot(data=data,x='total_words',hue='is_duplicate')\n",
        "plt.show()"
      ],
      "metadata": {
        "id": "v2quELJYv6oJ"
      },
      "execution_count": null,
      "outputs": []
    },
    {
      "cell_type": "code",
      "source": [
        "def jaccard_index(s1,s2):\n",
        "  A=set(s1.split())\n",
        "  B=set(s2.split())\n",
        "  try:\n",
        "    return len(A.intersection(B))/len(A.union(B))\n",
        "  except ZeroDivisionError:\n",
        "    return 0\n",
        "data['common_words_sim']=data.apply(lambda x:jaccard_index(x.get('preprocessed_question1'),x.get('preprocessed_question2')),axis=1)"
      ],
      "metadata": {
        "id": "llEHxSaRQjfr"
      },
      "execution_count": 254,
      "outputs": []
    },
    {
      "cell_type": "code",
      "source": [
        "sns.kdeplot(data=data,x=\"common_words_sim\",hue='is_duplicate')\n",
        "plt.show()"
      ],
      "metadata": {
        "colab": {
          "base_uri": "https://localhost:8080/",
          "height": 283
        },
        "id": "v_senlpdZpOv",
        "outputId": "f03b2075-5399-4e80-e3dc-5211396688d2"
      },
      "execution_count": null,
      "outputs": [
        {
          "output_type": "display_data",
          "data": {
            "text/plain": [
              "<Figure size 432x288 with 1 Axes>"
            ],
            "image/png": "[encoded data removed]"
          },
          "metadata": {
            "needs_background": "light"
          }
        }
      ]
    },
    {
      "cell_type": "code",
      "source": [
        "#Calcualtion of the fuzzy ratio\n",
        "data['fuzzy_ratio']=data.apply(lambda x:fuzz.ratio(x.get('preprocessed_question1'),x.get('preprocessed_question2')),axis=1)\n",
        "\n",
        "#Calculation of the fuzzy partial ratio i.e we calculate fuzzy ration w.rt to shorter string to bigger string\n",
        "\n",
        "data['fuzzy_partial_ratio']=data.apply(lambda x:fuzz.partial_ratio(x.get('preprocessed_question1'),x.get('preprocessed_question2')),axis=1)\n",
        "#Calculation of fuzzy token sort ratio\n",
        "\n",
        "data['fuzzy_token_sort_ratio']=data.apply(lambda x:fuzz.token_sort_ratio(x.get('preprocessed_question1'),x.get('preprocessed_question2')),axis=1)\n",
        "\n",
        "#calculation of fuzzy token set ratio\n",
        "\n",
        "data['fuzzy_token_set_ratio']=data.apply(lambda x:fuzz.token_set_ratio(x.get('preprocessed_question1'),x.get('preprocessed_question2')),axis=1)\n",
        "\n",
        "#CWC min and CWC max\n"
      ],
      "metadata": {
        "id": "6AUpK4wcqlfH"
      },
      "execution_count": 255,
      "outputs": []
    },
    {
      "cell_type": "code",
      "source": [
        "def cwc(s1,s2,func):\n",
        "  A=set(s1.split())\n",
        "  B=set(s2.split())\n",
        "  try:\n",
        "    return len(A.intersection(B))/func(len(A),len(B))\n",
        "  except ZeroDivisionError:\n",
        "    return 0\n",
        "\n",
        "data['cwc_min']=data.apply(lambda x:cwc(x.get('preprocessed_question1'),x.get('preprocessed_question2'),lambda x,y:min(x,y)),axis=1)\n",
        "data['cwc_max']=data.apply(lambda x:cwc(x.get('preprocessed_question1'),x.get('preprocessed_question2'),lambda x,y:max(x,y)),axis=1)\n"
      ],
      "metadata": {
        "id": "e4pCCCYlhcxG"
      },
      "execution_count": 256,
      "outputs": []
    },
    {
      "cell_type": "code",
      "source": [
        "#Plot of the fuzzy ratio\n",
        "sns.kdeplot(data=data,x='fuzzy_ratio',hue='is_duplicate')\n",
        "plt.show()\n",
        "#Plot of the fuzzy partial ratio\n",
        "sns.kdeplot(data=data,x='fuzzy_partial_ratio',hue='is_duplicate')\n",
        "plt.show()\n",
        "#Plot of the fuzzy token sort ratio\n",
        "sns.kdeplot(data=data,x='fuzzy_token_sort_ratio',hue='is_duplicate')\n",
        "plt.show()\n",
        "#Plot of the fuzzy token set ratio\n",
        "sns.kdeplot(data=data,x='fuzzy_token_set_ratio',hue='is_duplicate')\n",
        "plt.show()"
      ],
      "metadata": {
        "colab": {
          "base_uri": "https://localhost:8080/",
          "height": 1000
        },
        "id": "QIeR2oZZf6gE",
        "outputId": "d8aaf4b7-8dd3-4ca1-d111-59550dbad50e"
      },
      "execution_count": 258,
      "outputs": [
        {
          "output_type": "display_data",
          "data": {
            "text/plain": [
              "<Figure size 432x288 with 1 Axes>"
            ],
            "image/png": "[encoded data removed]"
          },
          "metadata": {
            "needs_background": "light"
          }
        },
        {
          "output_type": "display_data",
          "data": {
            "text/plain": [
              "<Figure size 432x288 with 1 Axes>"
            ],
            "image/png": "[encoded data removed]"
          },
          "metadata": {
            "needs_background": "light"
          }
        },
        {
          "output_type": "display_data",
          "data": {
            "text/plain": [
              "<Figure size 432x288 with 1 Axes>"
            ],
            "image/png": "[encoded data removed]"
          },
          "metadata": {
            "needs_background": "light"
          }
        },
        {
          "output_type": "display_data",
          "data": {
            "text/plain": [
              "<Figure size 432x288 with 1 Axes>"
            ],
            "image/png": "[encoded data removed]"
          },
          "metadata": {
            "needs_background": "light"
          }
        }
      ]
    },
    {
      "cell_type": "code",
      "source": [
        ""
      ],
      "metadata": {
        "id": "lwmXQZOWgXJz"
      },
      "execution_count": null,
      "outputs": []
    },
    {
      "cell_type": "code",
      "source": [
        "sns.kdeplot(data=data,x='cwc_min',hue='is_duplicate')\n",
        "plt.show()\n",
        "sns.kdeplot(data=data,x='cwc_max',hue='is_duplicate')\n",
        "plt.show()"
      ],
      "metadata": {
        "id": "aC5XCsrSpgAk"
      },
      "execution_count": null,
      "outputs": []
    },
    {
      "cell_type": "code",
      "source": [
        "#In this code cell we are scaling the fuzzy feature from 0 to 100 to 0 to 1\n",
        "from sklearn.preprocessing import MinMaxScaler\n",
        "scaler=MinMaxScaler()\n",
        "data[['fuzzy_ratio','fuzzy_partial_ratio','fuzzy_token_sort_ratio' ,'fuzzy_token_set_ratio']] =\\\n",
        "      scaler.fit_transform(data[['fuzzy_ratio','fuzzy_partial_ratio','fuzzy_token_sort_ratio','fuzzy_token_set_ratio']])"
      ],
      "metadata": {
        "id": "-sO3Lw25Z2pC"
      },
      "execution_count": 259,
      "outputs": []
    },
    {
      "cell_type": "code",
      "source": [
        "data.head(5)"
      ],
      "metadata": {
        "colab": {
          "base_uri": "https://localhost:8080/",
          "height": 716
        },
        "id": "YYFiNW0VA-_C",
        "outputId": "849c2bd7-8492-4141-eb56-3ed3275cbf77"
      },
      "execution_count": 261,
      "outputs": [
        {
          "output_type": "execute_result",
          "data": {
            "text/plain": [
              "   id  qid1  qid2                                          question1  \\\n",
              "0   0     1     2  What is the step by step guide to invest in sh...   \n",
              "1   1     3     4  What is the story of Kohinoor (Koh-i-Noor) Dia...   \n",
              "2   2     5     6  How can I increase the speed of my internet co...   \n",
              "3   3     7     8  Why am I mentally very lonely? How can I solve...   \n",
              "4   4     9    10  Which one dissolve in water quikly sugar, salt...   \n",
              "\n",
              "                                           question2  is_duplicate  \\\n",
              "0  What is the step by step guide to invest in sh...             0   \n",
              "1  What would happen if the Indian government sto...             0   \n",
              "2  How can Internet speed be increased by hacking...             0   \n",
              "3  Find the remainder when [math]23^{24}[/math] i...             0   \n",
              "4            Which fish would survive in salt water?             0   \n",
              "\n",
              "                              preprocessed_question1  \\\n",
              "0          step step guide invest share market india   \n",
              "1                    story kohinoor koh noor diamond   \n",
              "2   can increase speed internet connection using vpn   \n",
              "3                          mentally lonely can solve   \n",
              "4  one dissolve water quikly sugar salt methane c...   \n",
              "\n",
              "                              preprocessed_question2  letter_count_q1  \\\n",
              "0                step step guide invest share market               41   \n",
              "1  would happen indian government stole kohinoor ...               31   \n",
              "2               can internet speed increase hack dns               48   \n",
              "3                    find remainder math math divide               25   \n",
              "4                      fish would survive salt water               60   \n",
              "\n",
              "   letter_count_q2  ...  word_count_question2  diff_in_words  total_words  \\\n",
              "0               35  ...                     6              1           13   \n",
              "1               67  ...                    10              5           15   \n",
              "2               36  ...                     6              1           13   \n",
              "3               31  ...                     5              1            9   \n",
              "4               29  ...                     5              5           15   \n",
              "\n",
              "   common_words_sim  fuzzy_ratio  fuzzy_partial_ratio  fuzzy_token_sort_ratio  \\\n",
              "0          0.833333         0.92                 1.00                    0.92   \n",
              "1          0.363636         0.59                 0.94                    0.59   \n",
              "2          0.444444         0.55                 0.61                    0.71   \n",
              "3          0.000000         0.32                 0.36                    0.29   \n",
              "4          0.153846         0.43                 0.52                    0.40   \n",
              "\n",
              "   fuzzy_token_set_ratio   cwc_min   cwc_max  \n",
              "0                   1.00  1.000000  0.833333  \n",
              "1                   0.89  0.800000  0.400000  \n",
              "2                   0.86  0.666667  0.571429  \n",
              "3                   0.27  0.000000  0.000000  \n",
              "4                   0.51  0.400000  0.200000  \n",
              "\n",
              "[5 rows x 22 columns]"
            ],
            "text/html": [
              "\n",
              "  <div id=\"df-70a36bc2-1b02-4b8b-8997-3b4d6da2e63e\">\n",
              "    <div class=\"colab-df-container\">\n",
              "      <div>\n",
              "<style scoped>\n",
              "    .dataframe tbody tr th:only-of-type {\n",
              "        vertical-align: middle;\n",
              "    }\n",
              "\n",
              "    .dataframe tbody tr th {\n",
              "        vertical-align: top;\n",
              "    }\n",
              "\n",
              "    .dataframe thead th {\n",
              "        text-align: right;\n",
              "    }\n",
              "</style>\n",
              "<table border=\"1\" class=\"dataframe\">\n",
              "  <thead>\n",
              "    <tr style=\"text-align: right;\">\n",
              "      <th></th>\n",
              "      <th>id</th>\n",
              "      <th>qid1</th>\n",
              "      <th>qid2</th>\n",
              "      <th>question1</th>\n",
              "      <th>question2</th>\n",
              "      <th>is_duplicate</th>\n",
              "      <th>preprocessed_question1</th>\n",
              "      <th>preprocessed_question2</th>\n",
              "      <th>letter_count_q1</th>\n",
              "      <th>letter_count_q2</th>\n",
              "      <th>...</th>\n",
              "      <th>word_count_question2</th>\n",
              "      <th>diff_in_words</th>\n",
              "      <th>total_words</th>\n",
              "      <th>common_words_sim</th>\n",
              "      <th>fuzzy_ratio</th>\n",
              "      <th>fuzzy_partial_ratio</th>\n",
              "      <th>fuzzy_token_sort_ratio</th>\n",
              "      <th>fuzzy_token_set_ratio</th>\n",
              "      <th>cwc_min</th>\n",
              "      <th>cwc_max</th>\n",
              "    </tr>\n",
              "  </thead>\n",
              "  <tbody>\n",
              "    <tr>\n",
              "      <th>0</th>\n",
              "      <td>0</td>\n",
              "      <td>1</td>\n",
              "      <td>2</td>\n",
              "      <td>What is the step by step guide to invest in sh...</td>\n",
              "      <td>What is the step by step guide to invest in sh...</td>\n",
              "      <td>0</td>\n",
              "      <td>step step guide invest share market india</td>\n",
              "      <td>step step guide invest share market</td>\n",
              "      <td>41</td>\n",
              "      <td>35</td>\n",
              "      <td>...</td>\n",
              "      <td>6</td>\n",
              "      <td>1</td>\n",
              "      <td>13</td>\n",
              "      <td>0.833333</td>\n",
              "      <td>0.92</td>\n",
              "      <td>1.00</td>\n",
              "      <td>0.92</td>\n",
              "      <td>1.00</td>\n",
              "      <td>1.000000</td>\n",
              "      <td>0.833333</td>\n",
              "    </tr>\n",
              "    <tr>\n",
              "      <th>1</th>\n",
              "      <td>1</td>\n",
              "      <td>3</td>\n",
              "      <td>4</td>\n",
              "      <td>What is the story of Kohinoor (Koh-i-Noor) Dia...</td>\n",
              "      <td>What would happen if the Indian government sto...</td>\n",
              "      <td>0</td>\n",
              "      <td>story kohinoor koh noor diamond</td>\n",
              "      <td>would happen indian government stole kohinoor ...</td>\n",
              "      <td>31</td>\n",
              "      <td>67</td>\n",
              "      <td>...</td>\n",
              "      <td>10</td>\n",
              "      <td>5</td>\n",
              "      <td>15</td>\n",
              "      <td>0.363636</td>\n",
              "      <td>0.59</td>\n",
              "      <td>0.94</td>\n",
              "      <td>0.59</td>\n",
              "      <td>0.89</td>\n",
              "      <td>0.800000</td>\n",
              "      <td>0.400000</td>\n",
              "    </tr>\n",
              "    <tr>\n",
              "      <th>2</th>\n",
              "      <td>2</td>\n",
              "      <td>5</td>\n",
              "      <td>6</td>\n",
              "      <td>How can I increase the speed of my internet co...</td>\n",
              "      <td>How can Internet speed be increased by hacking...</td>\n",
              "      <td>0</td>\n",
              "      <td>can increase speed internet connection using vpn</td>\n",
              "      <td>can internet speed increase hack dns</td>\n",
              "      <td>48</td>\n",
              "      <td>36</td>\n",
              "      <td>...</td>\n",
              "      <td>6</td>\n",
              "      <td>1</td>\n",
              "      <td>13</td>\n",
              "      <td>0.444444</td>\n",
              "      <td>0.55</td>\n",
              "      <td>0.61</td>\n",
              "      <td>0.71</td>\n",
              "      <td>0.86</td>\n",
              "      <td>0.666667</td>\n",
              "      <td>0.571429</td>\n",
              "    </tr>\n",
              "    <tr>\n",
              "      <th>3</th>\n",
              "      <td>3</td>\n",
              "      <td>7</td>\n",
              "      <td>8</td>\n",
              "      <td>Why am I mentally very lonely? How can I solve...</td>\n",
              "      <td>Find the remainder when [math]23^{24}[/math] i...</td>\n",
              "      <td>0</td>\n",
              "      <td>mentally lonely can solve</td>\n",
              "      <td>find remainder math math divide</td>\n",
              "      <td>25</td>\n",
              "      <td>31</td>\n",
              "      <td>...</td>\n",
              "      <td>5</td>\n",
              "      <td>1</td>\n",
              "      <td>9</td>\n",
              "      <td>0.000000</td>\n",
              "      <td>0.32</td>\n",
              "      <td>0.36</td>\n",
              "      <td>0.29</td>\n",
              "      <td>0.27</td>\n",
              "      <td>0.000000</td>\n",
              "      <td>0.000000</td>\n",
              "    </tr>\n",
              "    <tr>\n",
              "      <th>4</th>\n",
              "      <td>4</td>\n",
              "      <td>9</td>\n",
              "      <td>10</td>\n",
              "      <td>Which one dissolve in water quikly sugar, salt...</td>\n",
              "      <td>Which fish would survive in salt water?</td>\n",
              "      <td>0</td>\n",
              "      <td>one dissolve water quikly sugar salt methane c...</td>\n",
              "      <td>fish would survive salt water</td>\n",
              "      <td>60</td>\n",
              "      <td>29</td>\n",
              "      <td>...</td>\n",
              "      <td>5</td>\n",
              "      <td>5</td>\n",
              "      <td>15</td>\n",
              "      <td>0.153846</td>\n",
              "      <td>0.43</td>\n",
              "      <td>0.52</td>\n",
              "      <td>0.40</td>\n",
              "      <td>0.51</td>\n",
              "      <td>0.400000</td>\n",
              "      <td>0.200000</td>\n",
              "    </tr>\n",
              "  </tbody>\n",
              "</table>\n",
              "<p>5 rows × 22 columns</p>\n",
              "</div>\n",
              "      <button class=\"colab-df-convert\" onclick=\"convertToInteractive('df-70a36bc2-1b02-4b8b-8997-3b4d6da2e63e')\"\n",
              "              title=\"Convert this dataframe to an interactive table.\"\n",
              "              style=\"display:none;\">\n",
              "        \n",
              "  <svg xmlns=\"http://www.w3.org/2000/svg\" height=\"24px\"viewBox=\"0 0 24 24\"\n",
              "       width=\"24px\">\n",
              "    <path d=\"M0 0h24v24H0V0z\" fill=\"none\"/>\n",
              "    <path d=\"M18.56 5.44l.94 2.06.94-2.06 2.06-.94-2.06-.94-.94-2.06-.94 2.06-2.06.94zm-11 1L8.5 8.5l.94-2.06 2.06-.94-2.06-.94L8.5 2.5l-.94 2.06-2.06.94zm10 10l.94 2.06.94-2.06 2.06-.94-2.06-.94-.94-2.06-.94 2.06-2.06.94z\"/><path d=\"M17.41 7.96l-1.37-1.37c-.4-.4-.92-.59-1.43-.59-.52 0-1.04.2-1.43.59L10.3 9.45l-7.72 7.72c-.78.78-.78 2.05 0 2.83L4 21.41c.39.39.9.59 1.41.59.51 0 1.02-.2 1.41-.59l7.78-7.78 2.81-2.81c.8-.78.8-2.07 0-2.86zM5.41 20L4 18.59l7.72-7.72 1.47 1.35L5.41 20z\"/>\n",
              "  </svg>\n",
              "      </button>\n",
              "      \n",
              "  <style>\n",
              "    .colab-df-container {\n",
              "      display:flex;\n",
              "      flex-wrap:wrap;\n",
              "      gap: 12px;\n",
              "    }\n",
              "\n",
              "    .colab-df-convert {\n",
              "      background-color: #E8F0FE;\n",
              "      border: none;\n",
              "      border-radius: 50%;\n",
              "      cursor: pointer;\n",
              "      display: none;\n",
              "      fill: #1967D2;\n",
              "      height: 32px;\n",
              "      padding: 0 0 0 0;\n",
              "      width: 32px;\n",
              "    }\n",
              "\n",
              "    .colab-df-convert:hover {\n",
              "      background-color: #E2EBFA;\n",
              "      box-shadow: 0px 1px 2px rgba(60, 64, 67, 0.3), 0px 1px 3px 1px rgba(60, 64, 67, 0.15);\n",
              "      fill: #174EA6;\n",
              "    }\n",
              "\n",
              "    [theme=dark] .colab-df-convert {\n",
              "      background-color: #3B4455;\n",
              "      fill: #D2E3FC;\n",
              "    }\n",
              "\n",
              "    [theme=dark] .colab-df-convert:hover {\n",
              "      background-color: #434B5C;\n",
              "      box-shadow: 0px 1px 3px 1px rgba(0, 0, 0, 0.15);\n",
              "      filter: drop-shadow(0px 1px 2px rgba(0, 0, 0, 0.3));\n",
              "      fill: #FFFFFF;\n",
              "    }\n",
              "  </style>\n",
              "\n",
              "      <script>\n",
              "        const buttonEl =\n",
              "          document.querySelector('#df-70a36bc2-1b02-4b8b-8997-3b4d6da2e63e button.colab-df-convert');\n",
              "        buttonEl.style.display =\n",
              "          google.colab.kernel.accessAllowed ? 'block' : 'none';\n",
              "\n",
              "        async function convertToInteractive(key) {\n",
              "          const element = document.querySelector('#df-70a36bc2-1b02-4b8b-8997-3b4d6da2e63e');\n",
              "          const dataTable =\n",
              "            await google.colab.kernel.invokeFunction('convertToInteractive',\n",
              "                                                     [key], {});\n",
              "          if (!dataTable) return;\n",
              "\n",
              "          const docLinkHtml = 'Like what you see? Visit the ' +\n",
              "            '<a target=\"_blank\" href=https://colab.research.google.com/notebooks/data_table.ipynb>data table notebook</a>'\n",
              "            + ' to learn more about interactive tables.';\n",
              "          element.innerHTML = '';\n",
              "          dataTable['output_type'] = 'display_data';\n",
              "          await google.colab.output.renderOutput(dataTable, element);\n",
              "          const docLink = document.createElement('div');\n",
              "          docLink.innerHTML = docLinkHtml;\n",
              "          element.appendChild(docLink);\n",
              "        }\n",
              "      </script>\n",
              "    </div>\n",
              "  </div>\n",
              "  "
            ]
          },
          "metadata": {},
          "execution_count": 261
        }
      ]
    },
    {
      "cell_type": "code",
      "source": [
        "#We are dropping the unnecessary levels from the dataframe \n",
        "data.drop(['qid1','qid2','question1','question2','id'],axis=1,inplace=True,)"
      ],
      "metadata": {
        "id": "yybL9IAaBCL9"
      },
      "execution_count": 262,
      "outputs": []
    },
    {
      "cell_type": "code",
      "source": [
        "data.to_csv('preprocessed_text.csv',index=False)"
      ],
      "metadata": {
        "id": "ocPRCB14CSof"
      },
      "execution_count": 263,
      "outputs": []
    },
    {
      "cell_type": "code",
      "source": [
        "del data"
      ],
      "metadata": {
        "id": "FesDCtW40CQK"
      },
      "execution_count": null,
      "outputs": []
    },
    {
      "cell_type": "code",
      "source": [
        "data.columns"
      ],
      "metadata": {
        "colab": {
          "base_uri": "https://localhost:8080/"
        },
        "id": "3etxepN60G7B",
        "outputId": "1fd7b9ce-bfc1-4a7d-b427-77b26da1da7d"
      },
      "execution_count": 333,
      "outputs": [
        {
          "output_type": "execute_result",
          "data": {
            "text/plain": [
              "Index(['is_duplicate', 'preprocessed_question1', 'preprocessed_question2',\n",
              "       'letter_count_q1', 'letter_count_q2', 'total_letter_count',\n",
              "       'word_count_question1', 'word_count_question2', 'diff_in_words',\n",
              "       'total_words', 'common_words_sim', 'fuzzy_ratio', 'fuzzy_partial_ratio',\n",
              "       'fuzzy_token_sort_ratio', 'fuzzy_token_set_ratio', 'cwc_min',\n",
              "       'cwc_max'],\n",
              "      dtype='object')"
            ]
          },
          "metadata": {},
          "execution_count": 333
        }
      ]
    },
    {
      "cell_type": "code",
      "source": [
        "pd.read_csv('preprocessed_text.csv',header='infer').head(5)"
      ],
      "metadata": {
        "id": "zwzDxH23CnMe"
      },
      "execution_count": null,
      "outputs": []
    },
    {
      "cell_type": "code",
      "source": [
        "from sklearn.manifold import TSNE\n",
        "for p in [10,15,20,25,30,35,40,45]:\n",
        "  tsne=TSNE(n_components=2,perplexity=p,n_iter=300,n_iter_without_progress=50,verbose=1)\n",
        "  rows=['letter_count_q1','letter_count_q2','word_count_question1','word_count_question2','diff_in_words','total_words','common_words_sim','fuzzy_ratio','fuzzy_partial_ratio','fuzzy_token_sort_ratio','fuzzy_token_set_ratio','cwc_min','cwc_max']\n",
        "  data_points=tsne.fit_transform(visualize[rows].iloc[:5000])\n",
        "  sns.scatterplot(x=data_points[:,0],y=data_points[:,1],hue=data['is_duplicate'].iloc[:5000])\n",
        "  plt.show()"
      ],
      "metadata": {
        "id": "c4dggm0Ww135"
      },
      "execution_count": null,
      "outputs": []
    },
    {
      "cell_type": "code",
      "source": [
        "#We will create the text corpus\n",
        "text_corpus=np.hstack([data.get('preprocessed_question1'),data.get('preprocessed_question2')])\n",
        "text_corpus=list(np.unique(text_corpus))"
      ],
      "metadata": {
        "id": "SYJmpVyqII3f"
      },
      "execution_count": null,
      "outputs": []
    },
    {
      "cell_type": "code",
      "source": [
        "#Now we will be seeing wordcloud of is_duplicate==1\n",
        "def create_corpus(data_frame,cols,hue,):\n",
        "  assert hue in data_frame.columns\n",
        "  text_corpus=dict()\n",
        "  for label in data_frame.get(hue).unique():\n",
        "    text_corpus[str(label)]=set(np.hstack([data_frame[data_frame[hue]==label][col] for col in cols]))\n",
        "  return text_corpus"
      ],
      "metadata": {
        "id": "dg7AUv1-O0IT"
      },
      "execution_count": null,
      "outputs": []
    },
    {
      "cell_type": "code",
      "source": [
        "def Show_Cloud(text_corpus,name=None,mask=None,**kwargs):\n",
        "  text=''\n",
        "  if type(text_corpus)==list or type(text_corpus)==set:\n",
        "    text=' '.join([sent for sent in text_corpus])\n",
        "  if type(text_corpus)==str:\n",
        "    text=text_corpus\n",
        "  #Text courpus is ready \n",
        "  #Instantiating the word Courpus\n",
        "  wc=WordCloud(width=400,height=200,mask=None if mask is None else mask,background_color=\"white\",collocations=False).generate(text)\n",
        "  plt.figure(figsize=(8,8),dpi=150)\n",
        "  plt.imshow(wc,interpolation='bilinear')\n",
        "  plt.axis('off')\n",
        "  if name is not None:\n",
        "    wc.to_file(str(name))"
      ],
      "metadata": {
        "id": "Z5li1OtLKcOW"
      },
      "execution_count": null,
      "outputs": []
    },
    {
      "cell_type": "code",
      "source": [
        ""
      ],
      "metadata": {
        "id": "h1vbpGLH3SXw"
      },
      "execution_count": null,
      "outputs": []
    },
    {
      "cell_type": "code",
      "source": [
        "text_corpus=create_corpus(data,['preprocessed_question1','preprocessed_question2'],'is_duplicate')"
      ],
      "metadata": {
        "id": "1JFjCK5-V4ie"
      },
      "execution_count": null,
      "outputs": []
    },
    {
      "cell_type": "code",
      "source": [
        "Show_Cloud(text_corpus['0'],name='true_question.png')"
      ],
      "metadata": {
        "id": "aXt7TVhPOj3A"
      },
      "execution_count": null,
      "outputs": []
    },
    {
      "cell_type": "code",
      "source": [
        "Show_Cloud(text_corpus['1'],name='false_question.png')"
      ],
      "metadata": {
        "id": "cTo31ULQXDWW"
      },
      "execution_count": null,
      "outputs": []
    },
    {
      "cell_type": "code",
      "source": [
        "data.to_csv(\"train_preprocessed.csv\")\n"
      ],
      "metadata": {
        "id": "S8f16eb6QiwI"
      },
      "execution_count": null,
      "outputs": []
    },
    {
      "cell_type": "code",
      "source": [
        "def general_corpus(data,cols):\n",
        "  text=set(np.hstack([data.get(col) for col in cols]))\n",
        "  return text"
      ],
      "metadata": {
        "id": "R-OsnjqQfTqB"
      },
      "execution_count": 264,
      "outputs": []
    },
    {
      "cell_type": "code",
      "source": [
        "text_corpus=list(general_corpus(data,['preprocessed_question1','preprocessed_question2']))"
      ],
      "metadata": {
        "id": "Nvim1JKKfqtJ"
      },
      "execution_count": 265,
      "outputs": []
    },
    {
      "cell_type": "code",
      "source": [
        "text_corpus"
      ],
      "metadata": {
        "colab": {
          "base_uri": "https://localhost:8080/"
        },
        "id": "LyUXMCo3gYXE",
        "outputId": "a33888d7-9d00-42d8-9035-9d6292d0200c"
      },
      "execution_count": 268,
      "outputs": [
        {
          "output_type": "execute_result",
          "data": {
            "text/plain": [
              "['',\n",
              " 'should progress want know veda beginning',\n",
              " 'demonetization policy pm modi failure',\n",
              " 'whey protein cause kidney stone young adult',\n",
              " 'suzlon energy worth accumulate level',\n",
              " 'can global warming completely stop',\n",
              " 'effective nuclear charge sodium find effective nuclear charge sodium',\n",
              " 'will simple plastic case screen protector protect iphone',\n",
              " 'think kinnect focus social medium platform purely brand brand lover',\n",
              " 'social work major plan open private practice one day can plan future today',\n",
              " 'reason anemia',\n",
              " 'microsoft certification like mcse mc aid getting technical support job microsoft',\n",
              " 'cope constant change shift work long hours times without sleep',\n",
              " 'best short hair style face',\n",
              " 'qualification employer dubai seek civil engineering',\n",
              " 'u s election really going happen latino trump win',\n",
              " 'make nose smaller',\n",
              " 'graphene use cnt',\n",
              " 'chief minister chandigarh',\n",
              " 'set max repeatedly telecast sooryavansham movie india',\n",
              " 'beautiful zoo world',\n",
              " 'site online sql practice',\n",
              " 'back end front end development',\n",
              " 'healthcare system us lack',\n",
              " 'best engineering school unite state',\n",
              " 'get ipv connectivity isp country x get isp b country y route guarantee work e ipv ready isp services really globally working',\n",
              " 'quora limit question details character',\n",
              " 'can someone see whatsapp block',\n",
              " 'donald trump nasty people actually like',\n",
              " 'way design beautiful user interface',\n",
              " 'can view facebook android mobile china',\n",
              " 'will should next president india',\n",
              " 'cause polo car lose power accelerate',\n",
              " 'should strategy schedule crack jee',\n",
              " 'use online visa gift card',\n",
              " 'bengal bangla name prefer west bengal',\n",
              " 'instance team won test match even not getting wicket',\n",
              " 'will sim card work slot reliance jio use earlier',\n",
              " 'conspiracy isro founder dr vikram sarabhai death',\n",
              " 'guy know girl horny',\n",
              " 'lewis structure sif compare sodium',\n",
              " 'jar file add servlet tutorial',\n",
              " 'difference ray ban wayfarer k letter b letter',\n",
              " 'javeed bcom final year can enter article directly',\n",
              " 'amend child custody order',\n",
              " 'islam christianity hinduism organize denomination religion',\n",
              " 'could add things google would',\n",
              " 'get rid acne naturally',\n",
              " 'work electrical get l t ecc',\n",
              " 'best ways make money fast',\n",
              " 'get company website first page google',\n",
              " 'niche alternative burning man',\n",
              " 'people get depress unemployed',\n",
              " 'best time open ppf account',\n",
              " 'cope situation',\n",
              " 'thought fast light',\n",
              " 'heisenberg right saying first gulp natural science turn one atheist god waiting bottom see quote',\n",
              " 'will walking hour daily help reducing weight',\n",
              " 'can earn money internet free',\n",
              " 'suicide squad lot reshoot action scene manage obey rule degree line',\n",
              " 'default margin html header increase h h',\n",
              " 'university baker hughes recruit new grad majors looking',\n",
              " 'amd fx ghz quad good gaming',\n",
              " 'type wound would result bleeding mouth',\n",
              " 'big data hype only going temporary profession genuinely require',\n",
              " 'review raja raja chola',\n",
              " 'legend tomorrow not just get back time vandal savage kid just kill',\n",
              " 'need write new cover letter every job apply ca not use one format apply job different company',\n",
              " 'diagnostic statistical manual mental disorder dsm distinguish delusion faith base belief',\n",
              " 'good site buy edgy ring',\n",
              " 'kik girl just sent message s now not deliver',\n",
              " 'first time sex pains lot girl',\n",
              " 'beatles best rock act band ever',\n",
              " 'scientist professor study diabetes',\n",
              " 'will cyber security always basically arms race',\n",
              " 'career philosophy change necessary stay current',\n",
              " 'popular photo contest website',\n",
              " 'titan exist attack titan',\n",
              " 'come first selfie front camera',\n",
              " 'good pyschological movie',\n",
              " 'people fall love teenage',\n",
              " 'one grow facial hair',\n",
              " 'much caste discrimination india',\n",
              " 'should column size beam depth span metre two column',\n",
              " 'common mistake brits make use english',\n",
              " 'things north indian should learn south indian vice versa',\n",
              " 'investor much can earn month attach new car wagon r ola exclude driver wages',\n",
              " 'can break secure wifi',\n",
              " 'should strategy prepare ugc net computer science',\n",
              " 'know love someone love back love know sure love',\n",
              " 'best business idea start kolkata low investment',\n",
              " 'law school degree consider undergraduate degree',\n",
              " 'byju class coaching tablet regular class upsc ia exam',\n",
              " 'year old female can eliminate cellulite thigh actually build visible muscle',\n",
              " 'can one complete diploma electrical engineering',\n",
              " 'kind girl boy really like',\n",
              " 'report say walmart almost rich south africa wealth country determine work',\n",
              " 'hair serum good essential',\n",
              " 'scores calculate using duckworth lewis method',\n",
              " 'common barrier communication',\n",
              " 'belong obc cat only post obc whereas post gen rbi asst wise decision apply gen guwahati vacancy',\n",
              " 'find best lawn mower',\n",
              " 'law firm company hire law graduate cs right now',\n",
              " 'difference worldpay stripe',\n",
              " 'best gardening book',\n",
              " 'review condor pipe tobacco',\n",
              " 'marketing strategy behind film whiplash spite low budget become well know',\n",
              " 'martial arts benefit practice horse stance',\n",
              " 'best reliable led tv',\n",
              " 'internet not invent earlier',\n",
              " 'count number running process linux terminal',\n",
              " 'compound interest really important interest rates low',\n",
              " 'can not search instagram using multiple hashtags',\n",
              " 'veda insist parent should care son old age',\n",
              " 'psd html conversion',\n",
              " 'best hair length dark red hair',\n",
              " 'best language learn',\n",
              " 'mantra always good nature can share evil mantra meaning',\n",
              " 'sacramento state football live stream watch sacramento state hornet football game today live streaming online',\n",
              " 'should healthcare free everyone not',\n",
              " 'would google venture back fashion tech',\n",
              " 'placement community organsiastion devlopment practice',\n",
              " 'risk management level use workplace',\n",
              " 'can someone translate sky fall wind calling stand something die morning japanese',\n",
              " 'rbi launch rupee coin significance',\n",
              " 'important things learn',\n",
              " 'beneficial syrian civil war security long term future israel',\n",
              " 'gst bill impact life',\n",
              " 'woman girl like chased',\n",
              " 'simple yet useful innovation',\n",
              " 'vagus nerve',\n",
              " 'should quit engineering',\n",
              " 'mystery behind death jeyalalitha',\n",
              " 'hard get short book publish not money fame rather self satisfaction completion goal',\n",
              " 'indian institute science provide plagiarism check outsider',\n",
              " 'think arijit singh overrate singer',\n",
              " 'facebook shut zodiac album',\n",
              " 'will cm delhi',\n",
              " 'know husband delete text message not want see should',\n",
              " 'point getting married actually benefit married just title important',\n",
              " 'refill canon pixma ip ink cartridge',\n",
              " 'business model outbrain outbrain share revenue medium portal display links article blog promote charge fee',\n",
              " 'legal make prank video publish youtube',\n",
              " 'should order maintain healthy hair scalp',\n",
              " 'strange thing',\n",
              " 'buying use car avis hertz good idea',\n",
              " 'can not get crush',\n",
              " 'will lose canadian permanent residence status leave canada long stay relative uk',\n",
              " 'can join terrorist group',\n",
              " 'true american civil war not fight slavery',\n",
              " 'difference nanoparticles nanostructures nanomaterials relate',\n",
              " 'mobile stationary phase chromatography',\n",
              " 'good free video editing application windows',\n",
              " 'yahoo good deal verizon billion',\n",
              " 'corporate culture like frost bank culture different company',\n",
              " 'pink consider girl feminine color',\n",
              " 'android apps record video sound clearly live concert show',\n",
              " 'convenient flight leeds ibiza ibiza tourist attraction compare one madrid',\n",
              " 'can not creationism theory evolution co exist',\n",
              " 'can india become muslim majority state near future',\n",
              " 'good site japanese drama',\n",
              " 'something productive can nothing work',\n",
              " 'd printing',\n",
              " 'earn money facebook page',\n",
              " 'ways can tackle terrorism',\n",
              " 'happen body never eat fruit vegetable',\n",
              " 'school start early now',\n",
              " 'better python memcached python libmemcached',\n",
              " 'professional trader better investing non professional trader',\n",
              " 'harvard university distinctive faculty harvard oeb department',\n",
              " 'get start using quora write answer getting collapse',\n",
              " 'write ted cruz ballot november would count vote',\n",
              " 'good rap hip hop song',\n",
              " 'can people find trouble refuse use trump s correct title directly president trump mr president protest',\n",
              " 'should marry non virgin girl',\n",
              " 'find good manufacturer representative looking represent em company northeast',\n",
              " 'gpa matter entry level software position great company',\n",
              " 'first steps opening nail salon business',\n",
              " 'speed thought',\n",
              " 'fact wayne newton ethnicity',\n",
              " 'compulsory web designer developer strong ui ux skill',\n",
              " 'anybody confirm high iq become famous powerful bragging anyone',\n",
              " 'people look different selfies',\n",
              " 'difference payment gateway merchant account india',\n",
              " 'possible function without sleep',\n",
              " 'good seo tool fresher getting traffic back link analyze competitor keyword keyword research',\n",
              " 'martin luther king jr political aspiration',\n",
              " 'amaze fact antarctica',\n",
              " 'okay learn language can talk favourite celebrity',\n",
              " 'purpose interpersonal communication',\n",
              " 'windows powershell hack',\n",
              " 'can hack facebook messenger iphone',\n",
              " 'feel like thick penis',\n",
              " 'can well smell fart bo oblivious exact smell breath',\n",
              " 'can give car earn zoomcar',\n",
              " 'quality adolf hitler',\n",
              " 'teacher mine tell scientific american not credible source tell another student answer genesis give c assignment giving student higher grade anything can',\n",
              " 'can take gold jewelery us taking domestic flight india',\n",
              " 'people believe higher power god',\n",
              " 'power plant cause air pollution',\n",
              " 'israel export galil weapon system guatemala s',\n",
              " 'worst teacher iit bombay',\n",
              " 'best way ship clothes honduras',\n",
              " 'example non metal',\n",
              " 'calcium hydroxide use',\n",
              " 'ngdp target argument us monetary policy',\n",
              " 'big irony life',\n",
              " 'kumon really effective improve kid math skill',\n",
              " 'can nurse even medical conditions require regular check up clinic',\n",
              " 'presidential debate candidate want keep debate beyond allot hour would news cut let keep going',\n",
              " 'child development',\n",
              " 'determine pka acid',\n",
              " 'law school terrible',\n",
              " 'not desktop computer battery',\n",
              " 'marriage fail',\n",
              " 'people islamabad live flats bungalow',\n",
              " 'stop hairfall',\n",
              " 'ever felt deeply attract towards best friend opposite gender not want fall love',\n",
              " 'icy icey use sentence',\n",
              " 'asphalt',\n",
              " 'planck constant important',\n",
              " 'rugby union garry owen',\n",
              " 'meaning upa government',\n",
              " 'advice people just turn',\n",
              " 'think jaime will kill cersei get finale stop burning city ground finally see valonqar prophecy fulfil',\n",
              " 'will india become major electronics manufacturing hub like china',\n",
              " 'could daughter access iphone via touch id',\n",
              " 'good computer science final year graduation project idea relate cyber security machine learning',\n",
              " 'can get best online medical scribe',\n",
              " 'possible indian entrepreneur start private space company like spacex',\n",
              " 'film show ending part ending beginning',\n",
              " 'funny amaze thing smart phone unlock pocket',\n",
              " 'download movie via torrent crime',\n",
              " 'never brush teeth',\n",
              " 'infant mortality rate',\n",
              " 'meaning teeja tera ring tha mein famous song maula mere movie chak de india',\n",
              " 'will drinking glucose workout increase weight',\n",
              " 'only one donald trump',\n",
              " 'development length thumb rule formula',\n",
              " 'suggestion affordable reliable tour operator delhi agra jaipur',\n",
              " 'need someone non judgmental neutral write mail email want totally anonymous can find',\n",
              " 'apps available hack wifi password',\n",
              " 'kid born parent s tend mature parent s',\n",
              " 'negative effects not sleeping eating',\n",
              " 'practical use laplace transform',\n",
              " 'best way better communication skill',\n",
              " 'best institute sap hana training',\n",
              " 'city odisha high level humidity summer',\n",
              " 'can sadhu visit mount kailash stay',\n",
              " 'best ways search social medium conversation',\n",
              " 'can copy text status web whatsapp status',\n",
              " 'important decision take life far',\n",
              " 'relation value rupee sensex',\n",
              " 'initiate conversation',\n",
              " 'can coca cola produce no one know formula',\n",
              " 'cheap place live san francisco bootstrapping startup',\n",
              " 'size really matter woman',\n",
              " 'should someone start learning computer science',\n",
              " 'important education person life',\n",
              " 'handle sibling rivalry twins',\n",
              " 'heroine highly elastic inelastic price',\n",
              " 'business start pakistan investment atound k k',\n",
              " 'should india not go war pakistan',\n",
              " 'compensation structure cse fresher iits samsung noida r d center',\n",
              " 'modafinil consider methamphetamine would show drug test',\n",
              " 'ever backstabbed',\n",
              " 'good mobile phone',\n",
              " 'anode cathode streamer',\n",
              " 'leonardo da vinci bisexual',\n",
              " 'happen end space travesty',\n",
              " 'life really matter',\n",
              " 'much fdi allow different sector india',\n",
              " 'hybridization no',\n",
              " 'mean average minimum tensile strength material',\n",
              " 'can anal sex cause pregnancy',\n",
              " 'necessity muslim non muslim country',\n",
              " 'should logic level converter use instead voltage divider',\n",
              " 'thought particular painting',\n",
              " 'given power amend indian constitution would first amendment',\n",
              " 'age majority determine washington',\n",
              " 'australia ready african immigrant',\n",
              " 'reliance jio expect launch g services',\n",
              " 'abusive father taunt',\n",
              " 'can find mp music file spiderman theme die hard theme',\n",
              " 'difference gauge wire utilize',\n",
              " 'would ancient people react gun',\n",
              " 'job opportunity master computer science university albany',\n",
              " 'janis joplin personality disorder',\n",
              " 'difference content indian polity m laxmikanth th th edition',\n",
              " 'capitalism fail',\n",
              " 'can book cab online travelling agra delhi',\n",
              " 'course should good pencil art domain mechanical engineering prefer design pencil',\n",
              " 'best minister modi cabinet',\n",
              " 'scope sap course supply chain management engineering graduate',\n",
              " 'can cash cheque issue yes bank sbi account',\n",
              " 'jarrod radnich compose play difficult piece',\n",
              " 'study smartly engineering',\n",
              " 'two cards draw without replacement pack cards probability ace',\n",
              " 'people living outside india read book write chetan bhagat',\n",
              " 'soon world war iii',\n",
              " 'real italian leather can tell difference type leather',\n",
              " 'can anybody get creative idea writing composing music',\n",
              " 'trait would find person consider charismatic',\n",
              " 'popular publication investing',\n",
              " 'samsung phone should buy j j',\n",
              " 'good idea talk girl like friend',\n",
              " 'can cpl holder can join indian navy',\n",
              " 'will web page penalize content originally post facebook status',\n",
              " 'germany ruin currency worthless hitler take power could possibly turn around money come',\n",
              " 'can increase stamina kind food should consume',\n",
              " 'gift idea newlywed sister brother law',\n",
              " 'spell w',\n",
              " 'like eternal sunshine spotless mind',\n",
              " 'people low gpa mit go',\n",
              " 'unusual different food cuisine nepal',\n",
              " 'best ways study remember study',\n",
              " 'cool project github',\n",
              " 'will quality life los angeles male s k salary',\n",
              " 'make comic book shoes',\n",
              " 'dubai get electricity',\n",
              " 'western people cannot dominate game go',\n",
              " 'face green tint shaving',\n",
              " 'top university us',\n",
              " 'reading words per minute good skill',\n",
              " 'concatinate two column teradata null values one column',\n",
              " 'should include pitch deck',\n",
              " 'advantage disadvantage different form government',\n",
              " 'home remedy suppress menstruation',\n",
              " 'language fluent',\n",
              " 'get data science job spotify',\n",
              " 'nightlife hong kong compare new york city',\n",
              " 'happen tatkal ticket go unbooked go general category waiting list',\n",
              " 'different mcdonald dubai one america',\n",
              " 'weird thing saw dream',\n",
              " 'non muslim think islam',\n",
              " 'dark chocolate taste nasty',\n",
              " 'e mean calculator answer',\n",
              " 'kind job can retire ia officer get private sector',\n",
              " 'will upsc send mark list prelims home',\n",
              " 'reason bjp not giving list people black money',\n",
              " 'use framework selenium',\n",
              " 'wanna make robotic arm normal servo arduino want apply pid fuzzy controller can',\n",
              " 'can find hotel ranikhet',\n",
              " 'best way end relationship',\n",
              " 'want write book should start',\n",
              " 'easy way senior save retrieve website',\n",
              " 'mean someone say dead',\n",
              " 'mostly white people thought racist not race',\n",
              " 'explanation g del incompleteness theorem suitable year old',\n",
              " 'obtain uan number',\n",
              " 'happen bee stinger left skin',\n",
              " 'top blog platform company blog',\n",
              " 'tip making job interview process adt',\n",
              " 'can sell home make protein powder',\n",
              " 'god powerful can not just kill satan',\n",
              " 'difference bs ba degree',\n",
              " 'not feel like anything',\n",
              " 'would happen nazi never invade soviet union soviet union join axis',\n",
              " 'can upgrade anything early macbook pro',\n",
              " 'factor should consider choose auto parts store car body badly damage',\n",
              " 'possible girl age get married india',\n",
              " 'will barack obama remember president retire',\n",
              " 'people turkey happy erdogan',\n",
              " 'federalist anti federalist predecessor today republican democratic party',\n",
              " 'penis inch unnatural should embarrass',\n",
              " 'someone can ask soccer question quora',\n",
              " 'plane start company sell insurance online offline india licence require get license',\n",
              " 'upward tilt arrow player names fifa career mode signify',\n",
              " 'website training professional',\n",
              " 'ancient source greek myth come',\n",
              " 'somebody know great soundtrack similar legend korra ost',\n",
              " 'psychologist psychiatrist misdiagnoses patient prescribe patient course treatment deteriorate condition psychologist psychiatrist afterwards',\n",
              " 'large hackathon ever hold',\n",
              " 'can get pregnant th day period',\n",
              " 'software engineer strong analytical programming technique want join ib intelligence bureau make',\n",
              " 'greek goddess nature',\n",
              " 'woman hard understand',\n",
              " 'best quora friend',\n",
              " 'meaning telugu word praanam',\n",
              " 'many words should write minute essay',\n",
              " 'fall price food article balance equitable increase farmer income economy',\n",
              " 'best way prepare bank po working employee',\n",
              " 'can promote youtube channel content different',\n",
              " 'design database',\n",
              " 'can animal tickle',\n",
              " 'many animal estimate kill yearly firework',\n",
              " 'tv series continuum end only episode',\n",
              " 'can change icloud username password',\n",
              " 'accountant well pay',\n",
              " 'like grandparent',\n",
              " 'important feature hr manager want see software use daily basis',\n",
              " 'al qaeda taliban isis many mexican latin american heritage',\n",
              " 'possible build artificial intelligence like jarvis not',\n",
              " 'install subtitle download movie',\n",
              " 'r currency really need will not increase black money future india',\n",
              " 'nasty thing girl boy ever say',\n",
              " 'earn spend',\n",
              " 'much cost tesla build model s cost breakdown',\n",
              " 'can transfer amazon gift card balance another account approve amazon',\n",
              " 'bird would make loud jungle sounding call twice stop night massachusetts',\n",
              " 'go guy head find girl like',\n",
              " 'things goa',\n",
              " 'can not iphone play music shooting video',\n",
              " 'website provide free therapist services',\n",
              " 'can atheist sure no god creator creation not creation mean something create',\n",
              " 'outsider still sell copy year not bestseller list',\n",
              " 'shut iphone',\n",
              " 'descendants leading nazi officer change last names',\n",
              " 'substitute cumin',\n",
              " 'difference cs cs ap edx',\n",
              " 'will effects fidel castro death',\n",
              " 'true iphone secret software can remotely access spy people',\n",
              " 'car services available detroit good compare taxis relative',\n",
              " 'number race riot increase obama presidency',\n",
              " 'pay icici credit card bill using icici debit card',\n",
              " 'function osteogenic cell serve',\n",
              " 'song deep lyric',\n",
              " 'carbon nanotube manufacture',\n",
              " 'make civil engineer',\n",
              " 'possible people get percentile cat without studying',\n",
              " 'stop feeling everything life will go wrong',\n",
              " 'people average iq tend average eq',\n",
              " 'should good speaker',\n",
              " 'electronic cookie file actually contain',\n",
              " 'sign mental illness',\n",
              " 'common stereotype resident different neighborhood new york city',\n",
              " 'will denver award nonstop flight china',\n",
              " 'will not get fat even though eat lot',\n",
              " 'can earn money uber ola without driving also without attach car',\n",
              " 'ancient hindu sail india southeast asia bringing hinduism not also sail madagascar india make hindu',\n",
              " 'pro con coal energy',\n",
              " 'indian railway feel someone try grab window seat',\n",
              " 'starbucks business strategy',\n",
              " 'well respect university edinburgh mechanical engineering program',\n",
              " 'resistance ac greater resistance dc',\n",
              " 'would not dish create sling app xbox user base larger xbox one',\n",
              " 'nyfa sydney good film making',\n",
              " 'woman turn men plastic surgery',\n",
              " 'safe travel visit pakistan',\n",
              " 'difference gene allele',\n",
              " 'can think english',\n",
              " 'sort smoker audrey hepburn',\n",
              " 'song just make happy',\n",
              " 'bjp take stand upa government black money',\n",
              " 'animal can see colors',\n",
              " 'question mark need imrovement',\n",
              " 'best resource learning node j',\n",
              " 'foam agent patanjali dant kanti toothpaste',\n",
              " 'musixmatch create technically',\n",
              " 'possible world free visa',\n",
              " 'difference r vhp bajrang dal',\n",
              " 'crush know like keep seeing look times not talk mean',\n",
              " 'can cell body communicate',\n",
              " 'can use whatsapp using phone number laptop without scanning qr code',\n",
              " 'process japanese grow watermelon differ process korean use',\n",
              " 'can know view profile google account',\n",
              " 'manaphy sleeping like baby throughout pokemon ranger temple sea',\n",
              " 'high power money can use regulatory mechanism rbi',\n",
              " 'natural language processing three level voice recognition',\n",
              " 'severe itching due sunburn',\n",
              " 'know girlfriend lying',\n",
              " 'one best performance fuel economy honda cb trigger tv apache rtr hero impulse',\n",
              " 'ride share services like uber legal',\n",
              " 'business use social medium',\n",
              " 'many cockroach nyc',\n",
              " 'post something gag chat area',\n",
              " 'ways indian government better government country like usa',\n",
              " 'effective bsf combat force',\n",
              " 'viktor toth actually gandalf grey shave',\n",
              " 'know iphone jailbroken',\n",
              " 'anti american idea donald trump put forth bid president',\n",
              " 'best memory dog',\n",
              " 'can police car pull another',\n",
              " 'difference make poaching steak sear',\n",
              " 'major should pick want go medical school',\n",
              " 'place beautiful place singapore',\n",
              " 'engineering school can get us international student',\n",
              " 'train engine move reverse',\n",
              " 'best rental property buy',\n",
              " 'hubble space telescope discover',\n",
              " 'jew perceive feel understand view believe opine religion',\n",
              " 'us imperialism affect hawaii',\n",
              " 'actor tress die times movie',\n",
              " 'can somebody give intuitive simple explanation le ch telier principle true',\n",
              " 'can people dislike solely look no reason',\n",
              " 'definition courage',\n",
              " 'much cost car',\n",
              " 'brotherhood without banner kill innocent season episode',\n",
              " 'eat slowly increase eating speed',\n",
              " 'like emt',\n",
              " 'best business start',\n",
              " 'should shift key c transpose music',\n",
              " 'difference oyster sauce fish sauce',\n",
              " 'much time need clear ssc cgl',\n",
              " 'effects subliminal advertising',\n",
              " 'deal someone treat like option',\n",
              " 'health benefit shave unshaved',\n",
              " 'ensure number outstanding share company xyz remain constant intraday trading',\n",
              " 'correct say change',\n",
              " 'meaning dna',\n",
              " 'percentage people autistic america',\n",
              " 'like work elevator operator back days woman operate',\n",
              " 'weakness strength act utilitarianism',\n",
              " 'difference incubator investor',\n",
              " 'years taekwondo years boxing make good kickboxer',\n",
              " 'ekg inferior infarct age undetermined mean',\n",
              " 'can find cheap property india',\n",
              " 'people think rising price prescription non prescription drug solution issue',\n",
              " 'ask girl like whether like someone else not',\n",
              " 'open file firefox using vim editor',\n",
              " 'font important presentation',\n",
              " 'will good graphic novel read try first time',\n",
              " 'net worth ramit sethi',\n",
              " 'remove proxy hijacker virus laptop',\n",
              " 'water great lake come lake wildlife compare mjosa',\n",
              " 'hight stack dollar bill',\n",
              " 'should student aware apply college today',\n",
              " 'farmville',\n",
              " 'led make',\n",
              " 'thought experiment suppose religious perspective correct not know one consider plausible monotheism new age eastern religion',\n",
              " 'mean guy like not kiss',\n",
              " 'definition public discourse',\n",
              " 'difference structuralism post structuralism',\n",
              " 'slave social norm',\n",
              " 'salary rbi job ia',\n",
              " 'can sell raw amber',\n",
              " 'can sign yahoo messenger',\n",
              " 'best topic report writing construction',\n",
              " 'exist us monetary policy resolve triffin dilemma',\n",
              " 'today s generation disobedient not listen parent always willing argue',\n",
              " 'best way pack luggage',\n",
              " 'can block topic quora tire reading content',\n",
              " 'effect crime patrol people watching regularly',\n",
              " 'drug alcohol rehab center denali county ak',\n",
              " 'can reduce weight month',\n",
              " 'easy way transformer sizing calculation',\n",
              " 'possible top position corporate sector india still work life balance',\n",
              " 'university cs industry recruit new grad majors looking',\n",
              " 'obamas law license',\n",
              " 'bible say masturbation sin',\n",
              " 'anything can stop killing aleppo',\n",
              " 'best material fabrication chasis',\n",
              " 'casualty historic battle usually lower total war game',\n",
              " 'superficial things people mind would make not vote qualify candidate become potus',\n",
              " 'many vacuum make per year usa',\n",
              " 'headphone doesnot support laptop can fix',\n",
              " 'nazi concentration camp guard worker think morality action commit',\n",
              " 'interracial dating relationship white guy like asian girl',\n",
              " 'big thing learn quora',\n",
              " 'want know loneliness can define sickness',\n",
              " 'change ac frequency affect electrical system',\n",
              " 'wade wilson slade wilson connect words deadpool deathstroke connect',\n",
              " 'better iisc iisers',\n",
              " 'long might take single programmer make game app mobile phone',\n",
              " 'donald trump working hillary clinton',\n",
              " 'molecule relatively stable math n math math o math',\n",
              " 'cat lay chest time',\n",
              " 'things new employee should know going first day exco resource',\n",
              " 'online order limeroad fail limeroad not refund amount get',\n",
              " 'toothbrush invent',\n",
              " 'review sufi saint',\n",
              " 'given remote check deposit banks keep check cash multiple times',\n",
              " 'skill technology should electrical fresher learn growth corporate world',\n",
              " 'can draw abstract syntax tree',\n",
              " 'logo designer draw logo guideline illustrator',\n",
              " 'snap second snapchat',\n",
              " 'improve python coding skill',\n",
              " 'pdf reader can export highlight text',\n",
              " 'should nice policy apply individual not quora',\n",
              " 'peter thiel libertarian',\n",
              " 'won second town hall debate',\n",
              " 'can get good croque monsieur south bay',\n",
              " 'best advice succeed amazon fba make killing mistake would tell watch',\n",
              " 'good place buy intimate',\n",
              " 'big decision ever make life',\n",
              " 'can good husband wife',\n",
              " 'difference average total cost atc average variable cost avc decrease output increase',\n",
              " 'difference microsoft office libreoffice open office google doc',\n",
              " 'will social medium ever help spur us younger generational voter realize important vote midterm election',\n",
              " 'think mind actually works take decision way parent teacher friend teach tell us originality can not something not even slight idea',\n",
              " 'different type base compare contrast',\n",
              " 'advantage dot matrix printer',\n",
              " 'ways send email without internet connection',\n",
              " 'review bloomberg news',\n",
              " 'example subsistence farming',\n",
              " 'war nothing continuation diplomatic policy means extent agree',\n",
              " 'can pay debit card paypal',\n",
              " 'beautiful urdu hindi couplet',\n",
              " 'interest place visit chennai',\n",
              " 'best programming language beginner',\n",
              " 'pulse challenge prospect food security',\n",
              " 'lot news regard singapore china relationship turning bad recently news true',\n",
              " 'intj personality personal development advice',\n",
              " 'much time should take answer quora question',\n",
              " 'organic chemistry difference resonance tautomerization',\n",
              " 'can learn stock trading india',\n",
              " 'three best hollywood movie director',\n",
              " 'best tour motorcycle',\n",
              " 'can describe genetic drift',\n",
              " 'cause gravity matter property anything gravity',\n",
              " 'meaning not go chase waterfall',\n",
              " 'start get together anchor',\n",
              " 'people separate easily not fight marriage',\n",
              " 'worst bollywood movie',\n",
              " 'should start writing blog',\n",
              " 'know jirachi movie re release south korean cinema',\n",
              " 'penis tiny should just stop try sex die virgin',\n",
              " 'boolean algebra call switching algebra',\n",
              " 'dangerous far right far left',\n",
              " 'funny thing kid say',\n",
              " 'common grammatical structure tamil sentence',\n",
              " 'composition syenite use',\n",
              " 'cause light period',\n",
              " 'should sibling ancestral dna pattern mine',\n",
              " 'arraylist implement java',\n",
              " 'much food can puppy eat',\n",
              " 'information portable cortisol measuring sensor',\n",
              " 'placement scenario mechanical mtech jadavpur university',\n",
              " 'become tech entrepreneur',\n",
              " 'clean email inbox',\n",
              " 'introvert dislike phone',\n",
              " 'hong kong livable',\n",
              " 'will india get rid caste system',\n",
              " 'like gay living homophobic parent',\n",
              " 'kind drink bear fight',\n",
              " 'function human cell membrane',\n",
              " 'dancing consider sport art',\n",
              " 'would happen trumpists know trump latino',\n",
              " 'best cadet training program indian',\n",
              " 'should wear office christmas party',\n",
              " 'lion king scar name scar',\n",
              " 'fishing industry like barbados compare fishing industry mexico',\n",
              " 'labrador pug mix separation anxiety leave house',\n",
              " 'integrate x sec x tan x',\n",
              " 'can cause amp distortion can fix',\n",
              " 'best way ask crush',\n",
              " 'difference enum union struct c programming',\n",
              " 'nervousness feel nervous whenever see attractive girl like should avoid stare ask date',\n",
              " 'vladimir putin learn much',\n",
              " 'popular oracle fusion pillar',\n",
              " 'delete email iphone s delete email chromebook',\n",
              " 'need review dr mario de souza can anyone tell',\n",
              " 'best city reside india',\n",
              " 'good college mba mumbai',\n",
              " 'can crew trainer help imrove experience customer crew',\n",
              " 'long cannabis stays urine',\n",
              " 'magic real great magician perform trick real logic behind trick',\n",
              " 'abu bakr al baghdadi now',\n",
              " 'font elsevier use pdf publication',\n",
              " 'beautiful words english language',\n",
              " 'nail hair basically dead cell come grow',\n",
              " 'french scholar philosopher born paris region province close whereas english scientist scholar philosopher born across england not just london',\n",
              " 'can person become external auditor diploma degree electronics engineering',\n",
              " 'would pay dollar per month use quora',\n",
              " 'controller angularjs',\n",
              " 'math w t w t math martingale w t brownian motion',\n",
              " 'youtube keep crash using google chrome',\n",
              " 'convert years second',\n",
              " 'scope mba finance do m tech biotechnology',\n",
              " 'think memrise',\n",
              " 'superfluid dark matter ripple galaxy cluster collide would not wave double slit experiment',\n",
              " 'donald trump super villain super hero consider donald trump associate',\n",
              " 'common laboratory apparatus equipment',\n",
              " 'year old daughter either want iphone s iphone s plus one should get',\n",
              " 'can ntse gujarat expect cutoff stage',\n",
              " 'psychiatrist relevant',\n",
              " 'life non invasive cardiologist like',\n",
              " 'procedure become irts officer',\n",
              " 'possible score gre without magoosh',\n",
              " 'many indian hate jawaharlal nehru',\n",
              " 'indian currently pursue bachelor mass communication wish study ma culture literature medium university iceland review',\n",
              " 'long can us green card holder stay us lose permanent resident status',\n",
              " 'one learn something quora',\n",
              " 'can market social network site get user use',\n",
              " 'cool fact universe',\n",
              " 'best gd software iata travel agency',\n",
              " 'will happen run light speed',\n",
              " 'better ice heat sore muscle',\n",
              " 'difference layer switch router',\n",
              " 'not leonardo dicaprio oscar nominate titanic movie',\n",
              " 'can write song lyric steps',\n",
              " 'girl really want',\n",
              " 'difference self difference ego',\n",
              " 'still people think earth flat',\n",
              " 'should affair',\n",
              " 'word equation cell respiration',\n",
              " 'long couple years',\n",
              " 'can improve pte academic writing score',\n",
              " 'can get mooc e learning online web video course relate merchandising management develop indian professorial professor',\n",
              " 'stop cat bite hands',\n",
              " 'wise upgrade windows now',\n",
              " 'harmful effects green house gas earth',\n",
              " 'future studying architecture',\n",
              " 'us citizen possible go germany tourist find job apply work visa',\n",
              " 'conquer constantinople ottoman empire differ greek empire',\n",
              " 'new relay graphql',\n",
              " 'like guy online should',\n",
              " 'diploma computer science point should follow remember attain good career suggestion experience one',\n",
              " 'become social',\n",
              " 'can legally purchase counter serotonin supplement us',\n",
              " 'venmo work',\n",
              " 'can turtle come shell',\n",
              " 'baby board sign',\n",
              " 'numerology real feel completely stupid can letters name determine success failure business time baby born determine fate baby future',\n",
              " 'view truecaller',\n",
              " 'invent heterosexual anal sex',\n",
              " 'can find research paper deep web',\n",
              " 'unit impulse block simulink matlab',\n",
              " 'recognize negative self talk thought change',\n",
              " 'think quora character limit question details',\n",
              " 'can watch free tv show without putting credit card',\n",
              " 'worst sin accord qur',\n",
              " 'fast fast',\n",
              " 'would abraham lincoln great great grandchild like',\n",
              " 'situation tank crew use machine gun top tank',\n",
              " 'connect two speaker ohm amp',\n",
              " 'book recommend ux researcher read',\n",
              " 'get cookie put chocolate chips many chocolate chips put',\n",
              " 'war horse still breed',\n",
              " 'plant use carbon dioxide photosynthesis',\n",
              " 'would happen house wilson die',\n",
              " 'better p web dl p hdtv',\n",
              " 'identical twins solve conflict copyright likeness',\n",
              " 'think website like le wrong should reach advertise existence people not even hear would interest will hear',\n",
              " 'deal terrible father',\n",
              " 'apps use webview apps android',\n",
              " 'can explain big o notation non mathematician',\n",
              " 'uber business model india can someone invest uber just money making business',\n",
              " 'make modulo symbol keyboard',\n",
              " 'fall asleep quickly reading cause can avoid',\n",
              " 'quadratic equation square sum roots equal four times product roots discriminant equation',\n",
              " 'should vacate vehicle filling c n g',\n",
              " 'job recommendation th pass guy india experience running small wheat milling maching',\n",
              " 'happen taking viagra vodka',\n",
              " 'best university study geopolitics line',\n",
              " 'ensure get good score writing speaking section ielts',\n",
              " 'overlap length column beam slab etc',\n",
              " 'average package mtech graduate iit bombay',\n",
              " 'cause lightning',\n",
              " 'strike first time visitor special unusual arrive izumi osaka japan',\n",
              " 'place fun minneapolis',\n",
              " 'can dark matter exist earth',\n",
              " 'not notify answer quora question',\n",
              " 'birth control make period lighter not',\n",
              " 'will wifi telecom signal many people home slowly damage humanity dna without people realize',\n",
              " 'lb need lose weight soon possible can anyone help telling good workout plan weight loss',\n",
              " 'can apathetic',\n",
              " 'remains unreleased streaming medium era beatles october',\n",
              " 'get dog stop destroy things not home',\n",
              " 'people hate whistleblower',\n",
              " 'two material generate heat rubbing without adverse reaction heat',\n",
              " 'meet mature woman',\n",
              " 'quick way develop wordpress site',\n",
              " 'can talk dirty boyfriend',\n",
              " 'relation great aunt daughter daughter',\n",
              " 'pressure nozzle decrease fluid velocity increase',\n",
              " 'anything can buy will make water boil fast',\n",
              " 'send message instagram hide not delete can know person open will reappear box',\n",
              " 'tv show would recommend fan house cards newsroom sherlock suit etc',\n",
              " 'many glasses wine cause get drunk',\n",
              " 'best bike among honda unicorn cbr r yamaha r aspect',\n",
              " 'spoiler aviation',\n",
              " 'percentage people prader wili syndrome also intellectual disability',\n",
              " 'aadhar card number change update',\n",
              " 'never date should know dating',\n",
              " 'prefer love love',\n",
              " 'airtight international space station',\n",
              " 'successful business always generate money',\n",
              " 'should press clutch every time slow car even will not shifting gear',\n",
              " 'chemical formula cellulose',\n",
              " 'criminal movie get greenlit backstory movie get make',\n",
              " 'r percent value house worth house',\n",
              " 'should one stop try',\n",
              " 'can say prawn farming yield per acre much capital need start business',\n",
              " 'ways get dns code watch canadian netflix',\n",
              " 'best biomedical engineering masters degree',\n",
              " 'must read book age',\n",
              " 'know girl really trust',\n",
              " 'just move us best way start building good credit score',\n",
              " 'myers briggs type intp enemy',\n",
              " 'many order amazon co uk process per hour',\n",
              " 'good bad marry caste',\n",
              " 'decent guy date fat girl india',\n",
              " 'strain tomato use',\n",
              " 'clean pusheen',\n",
              " 'get glue cotton clothes',\n",
              " 'use android sdk laptop no admin right',\n",
              " 'ever regret move away college',\n",
              " 'nothing big bang cause initiate',\n",
              " 'define love one line',\n",
              " 'deviantart get start initial user acquisition strategy',\n",
              " 'network good field career scope should proceed network effective manner yes',\n",
              " 'best answer two years gap job interview',\n",
              " 'question immediately mark need improvement',\n",
              " 'advantage disadvantage city life',\n",
              " 'mandatory wear western dress woman training tech mahindra',\n",
              " 'can cottontail rabbit found',\n",
              " 'could speed light two observer one space water light move slowly water',\n",
              " 'feel getting hiv',\n",
              " 'no motivation anything',\n",
              " 'can get job europe australia sector sitting india',\n",
              " 'should india foreign policy agressive',\n",
              " 'ways increase strength concrete',\n",
              " 'click pic move fan not see still fan picture',\n",
              " 'should know studying mass communication',\n",
              " 'usa domination world start',\n",
              " 'spirit animal look like',\n",
              " 'hinduism decline kerala',\n",
              " 'forex trading legal india',\n",
              " 'civil society',\n",
              " 'ok clear data cache application',\n",
              " 'moon really moon',\n",
              " 'can not see someone last active',\n",
              " 'cultural faux pas travelling france',\n",
              " 'remove watermelon stain clothes',\n",
              " 'happen flazx us',\n",
              " 'make new friend high school',\n",
              " 'can get rid eczema scar',\n",
              " 'hillary clinton new book hard choice give new clue whether will run president',\n",
              " 'many kannadigas live usa',\n",
              " 'standard height fireplace mantel',\n",
              " 'trend network ip middle box market dealing encrypt traffic',\n",
              " 'start market local small business website design business',\n",
              " 'merchant fraud swindle turkey base exporter live bird suppose issue unit should report case inturkey',\n",
              " 'calculate voltage drop across resistor',\n",
              " 'high wing airplane say stable compare low wing airplane',\n",
              " 'android operate system can solve unfortunately system ui stop unfortunately gallery stop message samsung s upgrade android',\n",
              " 'best mobile gadget',\n",
              " 'buggery',\n",
              " 'tool need great ui ux designer',\n",
              " 'advantage longer foot',\n",
              " 'not feel like lending hard earn money friend ask help lost trust saying no correct',\n",
              " 'develop meaningful relationship life',\n",
              " 'good bad bajaj avenger',\n",
              " 'say lord ganesha should never left alone room ganesh chaturthi',\n",
              " 'google track happen incognito window',\n",
              " 'would china side north korea case war',\n",
              " 'like girl not really know tomorrow playoff game girl wear guy away jersey want wear mine can',\n",
              " 'using connect flight lufthansa unite transfer check luggage unite flight',\n",
              " 'require document need lost identification social security card',\n",
              " 'one turn lonely introvert extrovert lots friend',\n",
              " 'can build tolerance jalape o flavor things',\n",
              " 'value studying ba lower end college delhi university du',\n",
              " 'can become vedic astrologer',\n",
              " 'delhi smog crossing alarm level safe bangalore',\n",
              " 'change name person mistake new name want old one form incorrect name change not',\n",
              " 'citizenship married couple father swiss danish citizenship mother hong kong citizenship child born hong kong can child three citizenship keep',\n",
              " 'will not car start jump',\n",
              " 'download hindi epaper',\n",
              " 'much money need start book publishing company',\n",
              " 'add two numbers together',\n",
              " 'year old male many times day fine masturbate long should not waste time much porn',\n",
              " 'eco apps',\n",
              " 'can tell someone block iphone',\n",
              " 'next episode top gear going air patagonia special',\n",
              " 'difference unit operation unit process',\n",
              " 'extra finger humans come existence',\n",
              " 'enable usb debug boot menu device freeze',\n",
              " 'can develop sense humour',\n",
              " 'foreigner associate new zealand',\n",
              " 'card game fun',\n",
              " 'mafia dump dead body waurika lake',\n",
              " 'ways unlock bedroom door without key',\n",
              " 'somaliland country',\n",
              " 'coursera certificate help getting admission usa university graduate school admission',\n",
              " 'raw material',\n",
              " 'start writing first sci fi novel',\n",
              " 'can improve score pte academic speaking module week',\n",
              " 'mean snake chase hide',\n",
              " 'many employee infosys usa',\n",
              " 'smart artificial intelligence today',\n",
              " 'many calorie need survive',\n",
              " 'happen massive star explode die',\n",
              " 'india kfc get chicken haram halal',\n",
              " 'difference pinocytosis receptor mediate endocytosis',\n",
              " 'taboo spite fact india birthplace kama sutra home many explicit sculpture like one khajuraho konark sex continue subject push carpet',\n",
              " 'reason behind seizure hurting much',\n",
              " 'will hear sound bird',\n",
              " 'can make man penis erect',\n",
              " 'list superforecasters',\n",
              " 'building resume cv correct title should use io developer front end io developer differents',\n",
              " 'best latest seminar topic rd mechanical engineering student',\n",
              " 'personality disorder common child narcissistic parent',\n",
              " 'things sent trade vijayanagar',\n",
              " 'need president country like india',\n",
              " 'can gain pound month',\n",
              " 'type thread use lead screw lathe',\n",
              " 'software update available reduce heating problem redmi s mi can someone provide steps get update phone',\n",
              " 'anyone ever apply y combinator accept decline opportunity reapplied accept',\n",
              " 'funny story hear',\n",
              " 'city best visit milan venice florence rome',\n",
              " 'visualgo net good source learning algorithm ioi',\n",
              " 'gulab jamun call rasagullah',\n",
              " 'can hypochondriac hypochondriac',\n",
              " 'difference parsi muslim',\n",
              " 'donald trump like person away press medium',\n",
              " 'can get start kotlin programming language android',\n",
              " 'advantage disadvantage hnd marine engineering',\n",
              " 'men afraid weak',\n",
              " 'ever late escape corporate america even serious career change',\n",
              " 'will fully autonomous affordable self driving car available commercially',\n",
              " 'going usa australia flight take long route across country not go way round',\n",
              " 'people western european country eat apart sandwich potato pasta',\n",
              " 'somebody not care plagiarize',\n",
              " 'saturn look fake',\n",
              " 'proper time pp glucose test diabetes hr starting first bite last meal hr completion last meal',\n",
              " 'high post ece ie officer could get',\n",
              " 'real life example person could not not able utilize talent due chronic ill health',\n",
              " 'hardware requirement chef server graylogs scalr',\n",
              " 'best way keep gold jewellery safe',\n",
              " 'relationship national deficit debt',\n",
              " 'place ethics concrete life situation modern contemporary men',\n",
              " 'reddit not block china',\n",
              " 'best gaming laptop good graphics r',\n",
              " 'mumzworld com',\n",
              " 'easy get nri loan bank offer low interest rate personal loan',\n",
              " 'chief season',\n",
              " 'install ms sql express mac',\n",
              " 'many language speak switzerland',\n",
              " 'best book ca cpt preparation',\n",
              " 'best website can order custom design t shirt',\n",
              " 'get rid emotion',\n",
              " 'holocaust schindler jew still alive',\n",
              " 'erotic feature film see',\n",
              " 'reliable trustworthy transferwise',\n",
              " 'ch citizen mean',\n",
              " 'necessary stay friend ex',\n",
              " 'good personality type analytical man look woman',\n",
              " 'physical significance vector space',\n",
              " 'parent think wrong beat kid',\n",
              " 'disadvantage google checkout',\n",
              " 'would name planet',\n",
              " 'history will repeat mean',\n",
              " 'song must listen',\n",
              " 'vga cable differ hdmi cable',\n",
              " 'carve watermelon',\n",
              " 'can stop boyfriend farting much',\n",
              " 'cards pick deck cards probability picking black club',\n",
              " 'safe charger get hot charge cell phone',\n",
              " 'should watch star trek show film start',\n",
              " 'current challenge face combat male pattern baldness',\n",
              " 'process loose weight much water should drink day',\n",
              " 'good moocs biochemistry',\n",
              " 'sikhism gurduwaras five takhts significance',\n",
              " 'girl hit guy',\n",
              " 'islamist target france aggressively recent years',\n",
              " 'old book ever write',\n",
              " 'can ok not ok',\n",
              " 'cgpa old iit should get ph d program top university',\n",
              " 'get day',\n",
              " 'amaze fact youtube',\n",
              " 'election date uttar pradesh',\n",
              " 'flirty bet make',\n",
              " 'best itunes alternative transfer iphone music computer without barrier',\n",
              " 'will get full refund confirm ticket chart preparation',\n",
              " 'want ui ux designer good photoshop bootstrap suggest should learn angular j something else',\n",
              " 'significance patriot act section should happen june st',\n",
              " 'herbivore elaborate caecum',\n",
              " 'would astronaut navigate moon',\n",
              " 'can not sleep light',\n",
              " 'scientific theory irrefutable fact',\n",
              " 'make money using raw public data analyze know anyone company',\n",
              " 'can create npm package can use others',\n",
              " 'maximum number tweet twitter display mobile app',\n",
              " 'avast better kaspersky',\n",
              " 'think quick silver will replace wolverine x men beloved character',\n",
              " 'review harry potter creative franchise',\n",
              " 'whole life every night feel watch',\n",
              " 'should young adult ex years old get start investing',\n",
              " 'mind hack could use get mind single',\n",
              " 'better graphic design illustrator photoshop',\n",
              " 'can recover delete telegram chat',\n",
              " 'le know fact adolf hitler',\n",
              " 'percentage user click report spam instead unsubscribe link want stop receive email sent web service',\n",
              " 'company hire indian mba years work experience finance us uk location',\n",
              " 'can control people mind',\n",
              " 'lost love circumstances married immature person life',\n",
              " 'hitler bunker still germany anyone inside since war end',\n",
              " 'word graph come',\n",
              " 'stop watching porn video',\n",
              " 'make hitfilm express run smoothly amd mx',\n",
              " 'life leaving google',\n",
              " 'difference shopping mall hypermarket',\n",
              " 'electron get negative charge',\n",
              " 'can build muscle lose belly fat time',\n",
              " 'thomas hardy think fate chance',\n",
              " 'cut frequency transistor f hz f khz mid band voltage gain voltage hz',\n",
              " 'best coaching centre upsc mumbai',\n",
              " 'jordan army fighting isis',\n",
              " 'install hadoop laptop',\n",
              " 'indian slavery can stop',\n",
              " 'can start prepare gsoc scratch',\n",
              " 'should wait buy fitness tracker feature include',\n",
              " 'would older attach man brag young single independent woman power money etc',\n",
              " 'can treat crusty toe',\n",
              " 'first postulate special relativity',\n",
              " 'annual fee include hostel charge msc iit bombay',\n",
              " 'can easily pass c exam',\n",
              " 'will happen dilute antibiotic tablet liquid falls skin will kill bacterial colony skin',\n",
              " 'much accounting book keeping',\n",
              " ...]"
            ]
          },
          "metadata": {},
          "execution_count": 268
        }
      ]
    },
    {
      "cell_type": "code",
      "source": [
        "import pickle\n",
        "#Now we have the vidf associated with all the vectors\n",
        "vectorizer=TfidfVectorizer(stop_words=None,ngram_range=(1,1),lowercase=True,)\n",
        "vectorizer.fit(text_corpus)\n",
        "word2idf=dict(zip(vectorizer.get_feature_names(),vectorizer.idf_))\n",
        "\n",
        "#after that we will save wor2idf as pickle file\n",
        "\n",
        "with open('word2idf.pkl','wb') as f:\n",
        "  pickle.dump(word2idf,f)\n",
        "  f.close()\n",
        "with open('word2idf.pkl','rb') as f:\n",
        "  word2idf_loaded=pickle.load(f)\n",
        "  f.close()"
      ],
      "metadata": {
        "colab": {
          "base_uri": "https://localhost:8080/"
        },
        "id": "FHn1yu8M5AmU",
        "outputId": "57108048-be26-468b-e623-1b8df548cd9c"
      },
      "execution_count": 270,
      "outputs": [
        {
          "output_type": "stream",
          "name": "stderr",
          "text": [
            "/usr/local/lib/python3.7/dist-packages/sklearn/utils/deprecation.py:87: FutureWarning: Function get_feature_names is deprecated; get_feature_names is deprecated in 1.0 and will be removed in 1.2. Please use get_feature_names_out instead.\n",
            "  warnings.warn(msg, category=FutureWarning)\n"
          ]
        }
      ]
    },
    {
      "cell_type": "code",
      "source": [
        "word2idf['not']"
      ],
      "metadata": {
        "colab": {
          "base_uri": "https://localhost:8080/"
        },
        "id": "iy71aoguKCLc",
        "outputId": "f71cc56f-b337-470e-815e-437789496aeb"
      },
      "execution_count": 273,
      "outputs": [
        {
          "output_type": "execute_result",
          "data": {
            "text/plain": [
              "3.881324561273969"
            ]
          },
          "metadata": {},
          "execution_count": 273
        }
      ]
    },
    {
      "cell_type": "code",
      "source": [
        "!gdown --id 0B7XkCwpI5KDYNlNUTTlSS21pQmM"
      ],
      "metadata": {
        "colab": {
          "base_uri": "https://localhost:8080/"
        },
        "id": "SldieboWx0Uf",
        "outputId": "8945ab85-5025-4578-fdd5-ed77e2a52593"
      },
      "execution_count": null,
      "outputs": [
        {
          "output_type": "stream",
          "name": "stdout",
          "text": [
            "/usr/local/lib/python3.7/dist-packages/gdown/cli.py:131: FutureWarning: Option `--id` was deprecated in version 4.3.1 and will be removed in 5.0. You don't need to pass it anymore to use a file ID.\n",
            "  category=FutureWarning,\n",
            "Downloading...\n",
            "From: https://drive.google.com/uc?id=0B7XkCwpI5KDYNlNUTTlSS21pQmM\n",
            "To: /content/quora_question/GoogleNews-vectors-negative300.bin.gz\n",
            "100% 1.65G/1.65G [00:08<00:00, 191MB/s]\n"
          ]
        }
      ]
    },
    {
      "cell_type": "code",
      "source": [
        "import gensim\n",
        "from gensim.models import KeyedVectors\n",
        "model=KeyedVectors.load_word2vec_format('/content/quora_question/GoogleNews-vectors-negative300.bin.gz',binary=True)\n",
        "word_vec=model.wv"
      ],
      "metadata": {
        "colab": {
          "base_uri": "https://localhost:8080/"
        },
        "id": "o0t54Vv4xxO7",
        "outputId": "fa2e4dc7-e39a-4466-bfb0-7aca05f06b8c"
      },
      "execution_count": null,
      "outputs": [
        {
          "output_type": "stream",
          "name": "stderr",
          "text": [
            "/usr/local/lib/python3.7/dist-packages/ipykernel_launcher.py:4: DeprecationWarning: Call to deprecated `wv` (Attribute will be removed in 4.0.0, use self instead).\n",
            "  after removing the cwd from sys.path.\n"
          ]
        }
      ]
    },
    {
      "cell_type": "code",
      "source": [
        "word_vec"
      ],
      "metadata": {
        "id": "iASdez34mcUy"
      },
      "execution_count": null,
      "outputs": []
    },
    {
      "cell_type": "code",
      "source": [
        "from tqdm import tqdm\n",
        "import numpy as np\n",
        "def sentence_vector(s1:list):\n",
        "  sent_vectors=[]\n",
        "  for q1 in tqdm(s1):\n",
        "    #Now i have the q1\n",
        "    mean_vectors=np.zeros(shape=(300,))\n",
        "    for word in q1.split():\n",
        "      #This is the calculation of the word vectors\n",
        "        try:\n",
        "          vector=word_vec[str(word)]\n",
        "          pass\n",
        "        except KeyError:\n",
        "          vector=np.zeros(shape=(300,))\n",
        "\n",
        "        #This is the calculation of idf values\n",
        "        try:\n",
        "          pass\n",
        "          idf=word2idf[str(word)]\n",
        "        except KeyError:\n",
        "          idf=0\n",
        "        #print(idf,word)\n",
        "        mean_vectors+=vector*idf\n",
        "    mean_vector=mean_vectors/len(q1.split())\n",
        "    sent_vectors.append(mean_vector)\n",
        "  return sent_vectors\n",
        "  #print(mean_vector)"
      ],
      "metadata": {
        "id": "EeyAje0e3i2L"
      },
      "execution_count": 307,
      "outputs": []
    },
    {
      "cell_type": "code",
      "source": [
        "v1=sentence_vector(['why rubies are not found in india','current leader russia'])"
      ],
      "metadata": {
        "colab": {
          "base_uri": "https://localhost:8080/"
        },
        "id": "0R3ytthJkZH_",
        "outputId": "16a9e02f-a61e-4524-c091-190d00edae1c"
      },
      "execution_count": 308,
      "outputs": [
        {
          "output_type": "stream",
          "name": "stderr",
          "text": [
            "100%|██████████| 2/2 [00:00<00:00, 1537.50it/s]\n"
          ]
        }
      ]
    },
    {
      "cell_type": "code",
      "source": [
        "np.dot(v1[0],v1[1])/(np.linalg.norm(v1[0])*np.linalg.norm(v1[1]))"
      ],
      "metadata": {
        "colab": {
          "base_uri": "https://localhost:8080/"
        },
        "id": "1_aazqcfklcj",
        "outputId": "3409638c-5506-43c2-f79a-25e6dc628410"
      },
      "execution_count": 309,
      "outputs": [
        {
          "output_type": "execute_result",
          "data": {
            "text/plain": [
              "0.22040291653409302"
            ]
          },
          "metadata": {},
          "execution_count": 309
        }
      ]
    },
    {
      "cell_type": "code",
      "source": [
        "sent_vectors=sentence_vector(data['preprocessed_question1'])"
      ],
      "metadata": {
        "colab": {
          "base_uri": "https://localhost:8080/"
        },
        "id": "mKMkKT-c95sb",
        "outputId": "2eb55372-a76f-4abb-e4e5-02e4025a9346"
      },
      "execution_count": 311,
      "outputs": [
        {
          "output_type": "stream",
          "name": "stderr",
          "text": [
            "  0%|          | 1159/404287 [00:00<01:08, 5913.78it/s]/usr/local/lib/python3.7/dist-packages/ipykernel_launcher.py:24: RuntimeWarning: invalid value encountered in true_divide\n",
            "100%|██████████| 404287/404287 [00:31<00:00, 12965.77it/s]\n"
          ]
        }
      ]
    },
    {
      "cell_type": "code",
      "source": [
        "sent_vectors_q2=sentence_vector(data['preprocessed_question2'])"
      ],
      "metadata": {
        "colab": {
          "base_uri": "https://localhost:8080/"
        },
        "id": "FkDkd1Aisfld",
        "outputId": "4b0d8423-4954-4cad-e813-de989f7ed11c"
      },
      "execution_count": 314,
      "outputs": [
        {
          "output_type": "stream",
          "name": "stderr",
          "text": [
            "  2%|▏         | 7341/404287 [00:01<00:43, 9227.71it/s]/usr/local/lib/python3.7/dist-packages/ipykernel_launcher.py:24: RuntimeWarning: invalid value encountered in true_divide\n",
            "100%|██████████| 404287/404287 [00:31<00:00, 12911.25it/s]\n"
          ]
        }
      ]
    },
    {
      "cell_type": "code",
      "source": [
        "import csv\n",
        "\n",
        "cols = [\"q1_\"+str(i) for i in range(len(sent_vectors[0]))]\n",
        "\n",
        "with open('df_q1.csv', 'w') as f:\n",
        "\n",
        "    # using csv.writer method from CSV package\n",
        "    write = csv.writer(f)\n",
        "\n",
        "    write.writerow(cols)\n",
        "    write.writerows(sent_vectors)\n",
        "f.close()\n",
        "\n",
        "del sent_vectors\n"
      ],
      "metadata": {
        "id": "aGBP81ywY4-w"
      },
      "execution_count": 312,
      "outputs": []
    },
    {
      "cell_type": "code",
      "source": [
        "import csv\n",
        "\n",
        "cols = [\"q2_\"+str(i) for i in range(len(sent_vectors_q2[0]))]\n",
        "\n",
        "with open('df_q2.csv', 'w') as f:\n",
        "\n",
        "    # using csv.writer method from CSV package\n",
        "    write = csv.writer(f)\n",
        "\n",
        "    write.writerow(cols)\n",
        "    write.writerows(sent_vectors_q2)\n",
        "f.close()\n",
        "\n",
        "del sent_vectors_q2\n"
      ],
      "metadata": {
        "id": "m_48spiRDBVU"
      },
      "execution_count": 315,
      "outputs": []
    },
    {
      "cell_type": "code",
      "source": [
        "#We are pickling the word vectors\n",
        "with open('word_vector.pkl','wb') as f:\n",
        "  pickle.dump(word_vec,f)\n",
        "  f.close()"
      ],
      "metadata": {
        "id": "1TeTo35BfS6Q"
      },
      "execution_count": null,
      "outputs": []
    },
    {
      "cell_type": "code",
      "source": [
        "import pickle\n",
        "with open('/content/drive/MyDrive/word_vector.pkl','rb') as f:\n",
        "    word_vec=pickle.load(f)\n",
        "    f.close()\n",
        "with open('/content/drive/MyDrive/word2idf.pkl','rb') as f:\n",
        "    word2idf=pickle.load(f)m\n",
        "    f.close()\n"
      ],
      "metadata": {
        "id": "G47uFP4u6-hV"
      },
      "execution_count": null,
      "outputs": []
    },
    {
      "cell_type": "code",
      "source": [
        ""
      ],
      "metadata": {
        "id": "42_b-EGnfwGa"
      },
      "execution_count": null,
      "outputs": []
    },
    {
      "cell_type": "code",
      "source": [
        "chunk_size=10000\n",
        "header=True\n",
        "batch=1\n",
        "for df1,df2 in zip(pd.read_csv('df_q1.csv',chunksize=chunk_size),pd.read_csv('df_q2.csv',chunksize=chunk_size)):\n",
        "  df=pd.concat([df1,df2],axis=1,)\n",
        "  df['cosine_similarity']=df.apply(lambda x:1-distance.cosine(x[:300],x[300:]),axis=1)\n",
        "  df.to_csv('q1_q2_vectors.csv',index=False,header=header,mode='a+')\n",
        "  header=False\n",
        "  del df\n",
        "  print('Index {}'.format(batch))\n",
        "  batch+=1"
      ],
      "metadata": {
        "id": "CZHKeyphCdnk",
        "colab": {
          "base_uri": "https://localhost:8080/"
        },
        "outputId": "770dcec7-e7de-40ce-81bb-e1557979a66c"
      },
      "execution_count": 345,
      "outputs": [
        {
          "output_type": "stream",
          "name": "stderr",
          "text": [
            "/usr/local/lib/python3.7/dist-packages/scipy/spatial/distance.py:720: RuntimeWarning: invalid value encountered in double_scalars\n",
            "  dist = 1.0 - uv / np.sqrt(uu * vv)\n"
          ]
        },
        {
          "output_type": "stream",
          "name": "stdout",
          "text": [
            "Index 1\n",
            "Index 2\n",
            "Index 3\n",
            "Index 4\n",
            "Index 5\n",
            "Index 6\n",
            "Index 7\n",
            "Index 8\n",
            "Index 9\n",
            "Index 10\n",
            "Index 11\n",
            "Index 12\n",
            "Index 13\n",
            "Index 14\n",
            "Index 15\n",
            "Index 16\n",
            "Index 17\n",
            "Index 18\n",
            "Index 19\n",
            "Index 20\n",
            "Index 21\n",
            "Index 22\n",
            "Index 23\n",
            "Index 24\n",
            "Index 25\n",
            "Index 26\n",
            "Index 27\n",
            "Index 28\n",
            "Index 29\n",
            "Index 30\n",
            "Index 31\n",
            "Index 32\n",
            "Index 33\n",
            "Index 34\n",
            "Index 35\n",
            "Index 36\n",
            "Index 37\n",
            "Index 38\n",
            "Index 39\n",
            "Index 40\n",
            "Index 41\n"
          ]
        }
      ]
    },
    {
      "cell_type": "code",
      "source": [
        "size=100000\n",
        "sim=pd.read_csv('q1_q2_vectors.csv',nrows=size,usecols=['cosine_similarity'])"
      ],
      "metadata": {
        "id": "e6S43CKN0gTt"
      },
      "execution_count": 349,
      "outputs": []
    },
    {
      "cell_type": "code",
      "source": [
        "del sim"
      ],
      "metadata": {
        "id": "Y3ZJKHeI5Fd0"
      },
      "execution_count": 365,
      "outputs": []
    },
    {
      "cell_type": "code",
      "source": [
        "y_label=data['is_duplicate'].iloc[:size]\n",
        "y_label.values"
      ],
      "metadata": {
        "colab": {
          "base_uri": "https://localhost:8080/"
        },
        "id": "pwsD12zC0yhf",
        "outputId": "3b651bde-caed-40ac-aa54-5e92babce503"
      },
      "execution_count": 358,
      "outputs": [
        {
          "output_type": "execute_result",
          "data": {
            "text/plain": [
              "array([0, 0, 0, ..., 1, 0, 0])"
            ]
          },
          "metadata": {},
          "execution_count": 358
        }
      ]
    },
    {
      "cell_type": "code",
      "source": [
        "sns.kdeplot(x=sim.values.flatten(),hue=y_label.values)"
      ],
      "metadata": {
        "colab": {
          "base_uri": "https://localhost:8080/",
          "height": 283
        },
        "id": "ypjtH78UjtK-",
        "outputId": "18a77080-5551-4392-cf63-cfdbc1546328"
      },
      "execution_count": 364,
      "outputs": [
        {
          "output_type": "execute_result",
          "data": {
            "text/plain": [
              "<matplotlib.axes._subplots.AxesSubplot at 0x7fc85ca3c410>"
            ]
          },
          "metadata": {},
          "execution_count": 364
        },
        {
          "output_type": "display_data",
          "data": {
            "text/plain": [
              "<Figure size 432x288 with 1 Axes>"
            ],
            "image/png": "[encoded data removed]"
          },
          "metadata": {
            "needs_background": "light"
          }
        }
      ]
    },
    {
      "cell_type": "code",
      "source": [
        ""
      ],
      "metadata": {
        "id": "Yu-nm6XalCvx"
      },
      "execution_count": null,
      "outputs": []
    },
    {
      "cell_type": "code",
      "source": [
        "import os\n",
        "import sqlite3\n",
        "import sqlalchemy\n",
        "if not os.path.isfile('train.db'):\n",
        "  engine=sqlalchemy.create_engine('sqlite:///train.db')\n",
        "  chunk_size=10000\n",
        "  count=0\n",
        "  batch=1\n",
        "  header=True\n",
        "  for df1,df2 in zip(pd.read_csv('preprocessed_text.csv',chunksize=chunk_size),pd.read_csv('q1_q2_vectors.csv',chunksize=chunk_size)):\n",
        "    df=pd.concat([df1,df2],axis=1)\n",
        "    df.to_sql('train',engine,if_exists='append',)\n",
        "    del df\n",
        "    print(\"Index {}\".format(batch))\n",
        "    batch+=1"
      ],
      "metadata": {
        "colab": {
          "base_uri": "https://localhost:8080/"
        },
        "id": "6jZ2eq12iYjs",
        "outputId": "a92bb314-eca7-4839-bdb2-972d4feee364"
      },
      "execution_count": 366,
      "outputs": [
        {
          "output_type": "stream",
          "name": "stdout",
          "text": [
            "Index 1\n",
            "Index 2\n",
            "Index 3\n",
            "Index 4\n",
            "Index 5\n",
            "Index 6\n",
            "Index 7\n",
            "Index 8\n",
            "Index 9\n",
            "Index 10\n",
            "Index 11\n",
            "Index 12\n",
            "Index 13\n",
            "Index 14\n",
            "Index 15\n",
            "Index 16\n",
            "Index 17\n",
            "Index 18\n",
            "Index 19\n",
            "Index 20\n",
            "Index 21\n",
            "Index 22\n",
            "Index 23\n",
            "Index 24\n",
            "Index 25\n",
            "Index 26\n",
            "Index 27\n",
            "Index 28\n",
            "Index 29\n",
            "Index 30\n",
            "Index 31\n",
            "Index 32\n",
            "Index 33\n",
            "Index 34\n",
            "Index 35\n",
            "Index 36\n",
            "Index 37\n",
            "Index 38\n",
            "Index 39\n",
            "Index 40\n",
            "Index 41\n"
          ]
        }
      ]
    },
    {
      "cell_type": "code",
      "source": [
        "def create_connection(db_file):\n",
        "    \"\"\" create a database connection to the SQLite database\n",
        "        specified by db_file\n",
        "    :param db_file: database file\n",
        "    :return: Connection object or None\n",
        "    \"\"\"\n",
        "    try:\n",
        "        conn = sqlite3.connect(db_file)\n",
        "        return conn\n",
        "    except Error as e:\n",
        "        print(e)\n",
        " \n",
        "    return None\n",
        "\n",
        "\n",
        "def checkTableExists(dbcon):\n",
        "    cursr = dbcon.cursor()\n",
        "    str = \"select name from sqlite_master where type='table'\"\n",
        "    table_names = cursr.execute(str)\n",
        "    print(\"Tables in the databse:\")\n",
        "    tables =table_names.fetchall() \n",
        "    print(tables[0][0])\n",
        "    return(len(tables))"
      ],
      "metadata": {
        "id": "6Aq-JMu2VnYV"
      },
      "execution_count": 367,
      "outputs": []
    },
    {
      "cell_type": "code",
      "source": [
        "read_db = 'train.db'\n",
        "conn_r = create_connection(read_db)\n",
        "checkTableExists(conn_r)"
      ],
      "metadata": {
        "colab": {
          "base_uri": "https://localhost:8080/"
        },
        "id": "at4iNPphomdf",
        "outputId": "ed294363-3442-401c-c7b2-585d1c577ecf"
      },
      "execution_count": 369,
      "outputs": [
        {
          "output_type": "stream",
          "name": "stdout",
          "text": [
            "Tables in the databse:\n",
            "train\n"
          ]
        },
        {
          "output_type": "execute_result",
          "data": {
            "text/plain": [
              "1"
            ]
          },
          "metadata": {},
          "execution_count": 369
        }
      ]
    },
    {
      "cell_type": "code",
      "source": [
        "import os\n",
        "import sqlite3\n",
        "from sqlalchemy import create_engine\n",
        "import pandas as pd\n",
        "read_db = 'train.db'\n",
        "conn_r = create_connection(read_db)\n",
        "data=pd.read_sql_query('''SELECT * FROM train LIMIT 100001''',conn_r)\n",
        "conn_r.commit()\n",
        "conn_r.close()\n",
        "del conn_r"
      ],
      "metadata": {
        "id": "2cyHtZH02HAw"
      },
      "execution_count": 370,
      "outputs": []
    },
    {
      "cell_type": "code",
      "source": [
        "data.head(5)"
      ],
      "metadata": {
        "id": "wfAmnm9T8-Tm"
      },
      "execution_count": null,
      "outputs": []
    },
    {
      "cell_type": "code",
      "source": [
        "y_label=data['is_duplicate']\n",
        "data.head(5)\n",
        "data.drop(['index','is_duplicate','preprocessed_question1','preprocessed_question2'],axis=1,inplace=True)\n",
        "for col in data.columns:\n",
        "  data[col]=pd.to_numeric(data[col])"
      ],
      "metadata": {
        "id": "uG3_QYAW2h-z"
      },
      "execution_count": 372,
      "outputs": []
    },
    {
      "cell_type": "code",
      "source": [
        "from sklearn.model_selection import train_test_split\n",
        "X_train,X_test, y_train, y_test = train_test_split(data, y_label, stratify=y_label, test_size=0.3)\n",
        "print(\"Number of data points in train data :\",X_train.shape)\n",
        "print(\"Number of data points in test data :\",X_test.shape)"
      ],
      "metadata": {
        "colab": {
          "base_uri": "https://localhost:8080/"
        },
        "id": "I2eSjjGNu2T-",
        "outputId": "b15950d7-877c-4cd9-b27f-5e2654de2259"
      },
      "execution_count": 373,
      "outputs": [
        {
          "output_type": "stream",
          "name": "stdout",
          "text": [
            "Number of data points in train data : (70000, 615)\n",
            "Number of data points in test data : (30001, 615)\n"
          ]
        }
      ]
    },
    {
      "cell_type": "code",
      "source": [
        "import xgboost as xgb\n",
        "from sklearn.metrics import accuracy_score, log_loss\n",
        "params = {}\n",
        "params['objective'] = 'binary:logistic'\n",
        "params['eval_metric'] = 'logloss'\n",
        "params['eta'] = 0.02\n",
        "params['max_depth'] = 4\n",
        "\n",
        "d_train = xgb.DMatrix(X_train, label=y_train)\n",
        "d_test = xgb.DMatrix(X_test, label=y_test)\n",
        "\n",
        "watchlist = [(d_train, 'train'), (d_test, 'valid')]\n",
        "\n",
        "bst = xgb.train(params, d_train, 400, watchlist, early_stopping_rounds=20, verbose_eval=10)\n",
        "\n",
        "xgdmat = xgb.DMatrix(X_train,y_train)\n"
      ],
      "metadata": {
        "colab": {
          "base_uri": "https://localhost:8080/",
          "height": 1000
        },
        "id": "13BhpcprtP6-",
        "outputId": "c02da71c-b4f2-4221-a83d-61429fff2f66"
      },
      "execution_count": 375,
      "outputs": [
        {
          "output_type": "stream",
          "name": "stdout",
          "text": [
            "[0]\ttrain-logloss:0.687853\tvalid-logloss:0.688039\n",
            "Multiple eval metrics have been passed: 'valid-logloss' will be used for early stopping.\n",
            "\n",
            "Will train until valid-logloss hasn't improved in 20 rounds.\n",
            "[10]\ttrain-logloss:0.644847\tvalid-logloss:0.64559\n",
            "[20]\ttrain-logloss:0.613949\tvalid-logloss:0.615208\n",
            "[30]\ttrain-logloss:0.590972\tvalid-logloss:0.592647\n",
            "[40]\ttrain-logloss:0.573533\tvalid-logloss:0.575677\n",
            "[50]\ttrain-logloss:0.559955\tvalid-logloss:0.562594\n",
            "[60]\ttrain-logloss:0.549103\tvalid-logloss:0.552259\n",
            "[70]\ttrain-logloss:0.54039\tvalid-logloss:0.544014\n",
            "[80]\ttrain-logloss:0.533371\tvalid-logloss:0.537412\n",
            "[90]\ttrain-logloss:0.527543\tvalid-logloss:0.532044\n",
            "[100]\ttrain-logloss:0.522608\tvalid-logloss:0.527445\n",
            "[110]\ttrain-logloss:0.518132\tvalid-logloss:0.523266\n",
            "[120]\ttrain-logloss:0.514119\tvalid-logloss:0.519618\n",
            "[130]\ttrain-logloss:0.510622\tvalid-logloss:0.516535\n",
            "[140]\ttrain-logloss:0.507181\tvalid-logloss:0.513425\n",
            "[150]\ttrain-logloss:0.504257\tvalid-logloss:0.510892\n",
            "[160]\ttrain-logloss:0.501564\tvalid-logloss:0.508569\n",
            "[170]\ttrain-logloss:0.499024\tvalid-logloss:0.506356\n",
            "[180]\ttrain-logloss:0.496583\tvalid-logloss:0.504327\n",
            "[190]\ttrain-logloss:0.494426\tvalid-logloss:0.50254\n",
            "[200]\ttrain-logloss:0.492221\tvalid-logloss:0.500742\n",
            "[210]\ttrain-logloss:0.490128\tvalid-logloss:0.499035\n",
            "[220]\ttrain-logloss:0.487738\tvalid-logloss:0.497121\n",
            "[230]\ttrain-logloss:0.485515\tvalid-logloss:0.495343\n",
            "[240]\ttrain-logloss:0.483576\tvalid-logloss:0.493874\n",
            "[250]\ttrain-logloss:0.481621\tvalid-logloss:0.492375\n",
            "[260]\ttrain-logloss:0.479639\tvalid-logloss:0.490828\n",
            "[270]\ttrain-logloss:0.477829\tvalid-logloss:0.489547\n",
            "[280]\ttrain-logloss:0.476256\tvalid-logloss:0.488404\n",
            "[290]\ttrain-logloss:0.474671\tvalid-logloss:0.487257\n",
            "[300]\ttrain-logloss:0.472957\tvalid-logloss:0.485996\n",
            "[310]\ttrain-logloss:0.471396\tvalid-logloss:0.484882\n",
            "[320]\ttrain-logloss:0.469765\tvalid-logloss:0.483747\n",
            "[330]\ttrain-logloss:0.468343\tvalid-logloss:0.482845\n",
            "[340]\ttrain-logloss:0.466889\tvalid-logloss:0.481848\n",
            "[350]\ttrain-logloss:0.465469\tvalid-logloss:0.480868\n",
            "[360]\ttrain-logloss:0.464034\tvalid-logloss:0.479862\n",
            "[370]\ttrain-logloss:0.462664\tvalid-logloss:0.478973\n",
            "[380]\ttrain-logloss:0.461271\tvalid-logloss:0.478031\n",
            "[390]\ttrain-logloss:0.459883\tvalid-logloss:0.477163\n",
            "[399]\ttrain-logloss:0.45874\tvalid-logloss:0.476488\n"
          ]
        },
        {
          "output_type": "error",
          "ename": "NameError",
          "evalue": "ignored",
          "traceback": [
            "\u001b[0;31m---------------------------------------------------------------------------\u001b[0m",
            "\u001b[0;31mNameError\u001b[0m                                 Traceback (most recent call last)",
            "\u001b[0;32m<ipython-input-375-83a21ee672cd>\u001b[0m in \u001b[0;36m<module>\u001b[0;34m()\u001b[0m\n\u001b[1;32m     15\u001b[0m \u001b[0;34m\u001b[0m\u001b[0m\n\u001b[1;32m     16\u001b[0m \u001b[0mxgdmat\u001b[0m \u001b[0;34m=\u001b[0m \u001b[0mxgb\u001b[0m\u001b[0;34m.\u001b[0m\u001b[0mDMatrix\u001b[0m\u001b[0;34m(\u001b[0m\u001b[0mX_train\u001b[0m\u001b[0;34m,\u001b[0m\u001b[0my_train\u001b[0m\u001b[0;34m)\u001b[0m\u001b[0;34m\u001b[0m\u001b[0;34m\u001b[0m\u001b[0m\n\u001b[0;32m---> 17\u001b[0;31m \u001b[0mpredict_y\u001b[0m \u001b[0;34m=\u001b[0m \u001b[0mbst\u001b[0m\u001b[0;34m.\u001b[0m\u001b[0mpredict\u001b[0m\u001b[0;34m(\u001b[0m\u001b[0md_tes\u001b[0m\u001b[0;34m,\u001b[0m\u001b[0;34m)\u001b[0m\u001b[0;34m\u001b[0m\u001b[0;34m\u001b[0m\u001b[0m\n\u001b[0m\u001b[1;32m     18\u001b[0m \u001b[0mprint\u001b[0m\u001b[0;34m(\u001b[0m\u001b[0;34m\"The test log loss is:\"\u001b[0m\u001b[0;34m,\u001b[0m\u001b[0mlog_loss\u001b[0m\u001b[0;34m(\u001b[0m\u001b[0my_test\u001b[0m\u001b[0;34m,\u001b[0m \u001b[0mpredict_y\u001b[0m\u001b[0;34m,\u001b[0m \u001b[0mlabels\u001b[0m\u001b[0;34m=\u001b[0m\u001b[0mclf\u001b[0m\u001b[0;34m.\u001b[0m\u001b[0mclasses_\u001b[0m\u001b[0;34m,\u001b[0m \u001b[0meps\u001b[0m\u001b[0;34m=\u001b[0m\u001b[0;36m1e-15\u001b[0m\u001b[0;34m)\u001b[0m\u001b[0;34m)\u001b[0m\u001b[0;34m\u001b[0m\u001b[0;34m\u001b[0m\u001b[0m\n",
            "\u001b[0;31mNameError\u001b[0m: name 'd_tes' is not defined"
          ]
        }
      ]
    },
    {
      "cell_type": "code",
      "source": [
        "pickle.dump(bst,open('xgbmodel.pkl','wb'))\n"
      ],
      "metadata": {
        "id": "7BzIXvjBJQY-"
      },
      "execution_count": 385,
      "outputs": []
    },
    {
      "cell_type": "code",
      "source": [
        "cst=pickle.load(open('xgbmodel.pkl','rb'))"
      ],
      "metadata": {
        "id": "eVvrsN9gJ7Qh"
      },
      "execution_count": 386,
      "outputs": []
    },
    {
      "cell_type": "code",
      "source": [
        "predict_y = cst.predict(d_test,)\n",
        "print(\"The test log loss is:\",log_loss(y_test, predict_y, labels=[0,1], eps=1e-15))"
      ],
      "metadata": {
        "colab": {
          "base_uri": "https://localhost:8080/"
        },
        "id": "V_CX9mKNIVzX",
        "outputId": "4f11da06-4fae-4d53-adda-e774d6d9bb0f"
      },
      "execution_count": 387,
      "outputs": [
        {
          "output_type": "stream",
          "name": "stdout",
          "text": [
            "The test log loss is: 0.47648786563755435\n"
          ]
        }
      ]
    },
    {
      "cell_type": "code",
      "source": [
        "(list(map(int,predict_y>.5))==y_test).sum()/len(y_test)\n"
      ],
      "metadata": {
        "colab": {
          "base_uri": "https://localhost:8080/"
        },
        "id": "7THCmBuG2sGI",
        "outputId": "6a966fb1-e8bd-44e2-bac7-195c59e69884"
      },
      "execution_count": 379,
      "outputs": [
        {
          "output_type": "execute_result",
          "data": {
            "text/plain": [
              "0.7541081963934535"
            ]
          },
          "metadata": {},
          "execution_count": 379
        }
      ]
    },
    {
      "cell_type": "code",
      "source": [
        "from"
      ],
      "metadata": {
        "id": "GxkRlppYIi8e"
      },
      "execution_count": null,
      "outputs": []
    },
    {
      "cell_type": "code",
      "source": [
        "from preprocessing_text_new1_1 import preprocessing\n",
        "from sentence_vectors_new import sentence_vector\n",
        "from scipy.spatial.distance import cosine\n",
        "def jaccard_index(s1,s2):\n",
        "  A=set(s1.split())\n",
        "  B=set(s2.split())\n",
        "  try:\n",
        "    return len(A.intersection(B))/len(A.union(B))\n",
        "  except ZeroDivisionError:\n",
        "    return 0\n",
        "def cwc(s1,s2,func):\n",
        "  A=set(s1.split())\n",
        "  B=set(s2.split())\n",
        "  try:\n",
        "    return len(A.intersection(B))/func(len(A),len(B))\n",
        "  except ZeroDivisionError:\n",
        "    return 0\n",
        "def process_query(q1,q2,model,word2idf,word_vec):\n",
        "  features=[]\n",
        "  #Preprocessing the text such as making it lower case,removing stop words decontraction and html tags\n",
        "  q1=preprocessing(q1)\n",
        "  q2=preprocessing(q2)\n",
        "  #Processing letter_count_q1 and_letter_count q2\n",
        "  letter_count_q1=len(q1)\n",
        "  letter_count_q2=len(q2)\n",
        "  total_letter_count=len(q1)+len(q2)\n",
        "  features.extend([letter_count_q1,letter_count_q2,total_letter_count])\n",
        "  #Processing_word count_q1 and q2 and diff_words and total_words\n",
        "  word_count_q1=len(q1.strip().split())\n",
        "  word_count_q2=len(q2.strip().split())\n",
        "  diff_in_words=abs(word_count_q1-word_count_q2)\n",
        "  total_words=word_count_q1+word_count_q2\n",
        "  features.extend([word_count_q1,word_count_q2,diff_in_words,total_words])\n",
        "  #jaccard similarity\n",
        "  features.extend([jaccard_index(q1,q2)])\n",
        "  #Now we will create the fuzzy features and scaling them between 0 to 1\n",
        "  fuzzy_ratio=fuzz.ratio(q1,q2)/100\n",
        "  fuzzy_partial_ratio=fuzz.partial_ratio(q1,q2)/100\n",
        "  fuzzy_token_sort_ratio=fuzz.token_sort_ratio(q1,q2)/100\n",
        "  fuzzy_token_set_ratio=fuzz.token_set_ratio(q1,q2)/100\n",
        "  features.extend([fuzzy_ratio,fuzzy_partial_ratio,fuzzy_token_sort_ratio,fuzzy_token_set_ratio])\n",
        "\n",
        "  #Cwc index will be user\n",
        "  cwc_min=cwc(q1,q2,lambda x,y:min(x,y))\n",
        "  cwc_max=cwc(q1,q2,lambda x,y:max(x,y))\n",
        "  features.extend([cwc_min,cwc_max])\n",
        "  # we will be creating the feature vector for q1 and then q1\n",
        "  q1_mean_vector=sentence_vector([q1],word2idf,word_vec)[0]\n",
        "  features.extend(q1_mean_vector)\n",
        "  #Calculation for word 2\n",
        "  q2_mean_vector=sentence_vector([q2],word2idf,word_vec)[0]\n",
        "  features.extend(q2_mean_vector)\n",
        "  #pushin cosine similarity value\n",
        "  #print(q1_mean_vector)\n",
        "  features.extend([1-cosine(list(q1_mean_vector),list(q2_mean_vector))])\n",
        "  return features"
      ],
      "metadata": {
        "id": "y1596Y7_xqLL"
      },
      "execution_count": 418,
      "outputs": []
    },
    {
      "cell_type": "code",
      "source": [
        "cols=X_train.columns"
      ],
      "metadata": {
        "id": "D71Il-wnzPuX"
      },
      "execution_count": 399,
      "outputs": []
    },
    {
      "cell_type": "code",
      "source": [
        "import pickle\n",
        "with open('word2idf.pkl','rb') as f:\n",
        "  word2idf=pickle.load(f)\n",
        "  f.close()\n",
        "with open('word_vector.pkl','rb') as f:\n",
        "  word_vec=pickle.load(f)\n",
        "  f.close()"
      ],
      "metadata": {
        "id": "0dOTIY2B3PZx"
      },
      "execution_count": 38,
      "outputs": []
    },
    {
      "cell_type": "code",
      "source": [
        "cols"
      ],
      "metadata": {
        "id": "QOMJdRxBIJez"
      },
      "execution_count": null,
      "outputs": []
    },
    {
      "cell_type": "code",
      "source": [
        "sent1=\"who were the freedom fighters fought during the indian independence\"\n",
        "sent2=\"how to install windows in macbook\"\n",
        "test_query=process_query(sent1,sent2,None,word2idf,word_vec)\n",
        "print(len(test_query))\n",
        "d_test = xgb.DMatrix(pd.DataFrame(np.array(test_query).reshape(1,-1),columns=cols))\n",
        "predict_y = bst.predict(d_test)\n",
        "predict_y"
      ],
      "metadata": {
        "colab": {
          "base_uri": "https://localhost:8080/"
        },
        "id": "_PDuGdxdYPbY",
        "outputId": "cce41617-79bf-4c4d-e9f4-84694a887a81"
      },
      "execution_count": 432,
      "outputs": [
        {
          "output_type": "stream",
          "name": "stdout",
          "text": [
            "Running\n"
          ]
        },
        {
          "output_type": "stream",
          "name": "stderr",
          "text": [
            "100%|██████████| 1/1 [00:00<00:00, 2239.35it/s]\n"
          ]
        },
        {
          "output_type": "stream",
          "name": "stdout",
          "text": [
            "Running\n"
          ]
        },
        {
          "output_type": "stream",
          "name": "stderr",
          "text": [
            "100%|██████████| 1/1 [00:00<00:00, 1377.89it/s]"
          ]
        },
        {
          "output_type": "stream",
          "name": "stdout",
          "text": [
            "615\n"
          ]
        },
        {
          "output_type": "stream",
          "name": "stderr",
          "text": [
            "\n"
          ]
        },
        {
          "output_type": "execute_result",
          "data": {
            "text/plain": [
              "array([0.00433627], dtype=float32)"
            ]
          },
          "metadata": {},
          "execution_count": 432
        }
      ]
    },
    {
      "cell_type": "code",
      "source": [
        "import nltk\n",
        "from nltk.corpus import wordnet as wn\n",
        "from bs4 import BeautifulSoup\n",
        "import re\n",
        "from nltk.corpus import stopwords\n",
        "#This can have thress types of data\n",
        "#puncuatation marks removal\n",
        "#Html tag removals\n",
        "def decontracted(phrase):\n",
        "    # specific\n",
        "    phrase = re.sub(r\"won\\'t\", \"will not\", phrase)\n",
        "    phrase = re.sub(r\"can\\'t\", \"can not\", phrase)\n",
        "\n",
        "    # general\n",
        "    phrase = re.sub(r\"n\\'t\", \" not\", phrase)\n",
        "    phrase = re.sub(r\"\\'re\", \" are\", phrase)\n",
        "    phrase = re.sub(r\"\\'s\", \" is\", phrase)\n",
        "    phrase = re.sub(r\"\\'d\", \" would\", phrase)\n",
        "    phrase = re.sub(r\"\\'ll\", \" will\", phrase)\n",
        "    phrase = re.sub(r\"\\'t\", \" not\", phrase)\n",
        "    phrase = re.sub(r\"\\'ve\", \" have\", phrase)\n",
        "    phrase = re.sub(r\"\\'m\", \" am\", phrase)\n",
        "    return phrase\n",
        "#English stop words are imported\n",
        "#Stemmer has also been instantiated but not used\n",
        "\n",
        "\n",
        "def preprocessing(sentence):\n",
        "  try:\n",
        "    stop_word=stopwords.words('english')\n",
        "  except:\n",
        "    nltk.download('stopwords')\n",
        "    stop_word=stopwords.words('english')\n",
        "    \n",
        "  nltk.download('wordnet')\n",
        "  #In first phase we will do the decontraction of the words\n",
        "  sentence=decontracted(sentence)\n",
        "  #We will remove any html tags\n",
        "  sentence=BeautifulSoup(sentence,'lxml').get_text()\n",
        "  #Now we will remove the special characters\n",
        "  sentence=re.sub('[^a-zA-Z]+',' ',sentence)\n",
        "  #Also remove the number we have\n",
        "  sentence=re.sub('\\d+','',sentence)\n",
        "  #Now we will remove\n",
        "  sentence=sentence.lower()\n",
        "  sentence=' '.join([wn.morphy(word) if wn.morphy(word)!=None else word for word in sentence.split() if word not in stop_word])\n",
        "  return sentence"
      ],
      "metadata": {
        "id": "XuQRNjy6amWF"
      },
      "execution_count": 158,
      "outputs": []
    },
    {
      "cell_type": "code",
      "source": [
        "preprocessing('harhsjghdfjhsbgd hsdhjhdg')"
      ],
      "metadata": {
        "colab": {
          "base_uri": "https://localhost:8080/",
          "height": 72
        },
        "id": "IBE293qeQOPT",
        "outputId": "ca27c84f-eff5-4110-f410-df6af32b452b"
      },
      "execution_count": 159,
      "outputs": [
        {
          "output_type": "stream",
          "name": "stdout",
          "text": [
            "[nltk_data] Downloading package wordnet to /root/nltk_data...\n",
            "[nltk_data]   Package wordnet is already up-to-date!\n"
          ]
        },
        {
          "output_type": "execute_result",
          "data": {
            "text/plain": [
              "'harhsjghdfjhsbgd hsdhjhdg'"
            ],
            "application/vnd.google.colaboratory.intrinsic+json": {
              "type": "string"
            }
          },
          "metadata": {},
          "execution_count": 159
        }
      ]
    },
    {
      "cell_type": "code",
      "source": [
        "import pickle\n",
        "pickle.dump(word_vec,open('word_vec.pkl','wb'),)"
      ],
      "metadata": {
        "colab": {
          "base_uri": "https://localhost:8080/",
          "height": 188
        },
        "id": "BuA_JR0lTDff",
        "outputId": "e497685e-4787-451f-8a8d-ddfbffe4cf2e"
      },
      "execution_count": 2,
      "outputs": [
        {
          "output_type": "error",
          "ename": "NameError",
          "evalue": "ignored",
          "traceback": [
            "\u001b[0;31m---------------------------------------------------------------------------\u001b[0m",
            "\u001b[0;31mNameError\u001b[0m                                 Traceback (most recent call last)",
            "\u001b[0;32m<ipython-input-2-83794a050feb>\u001b[0m in \u001b[0;36m<module>\u001b[0;34m()\u001b[0m\n\u001b[1;32m      1\u001b[0m \u001b[0;32mimport\u001b[0m \u001b[0mpickle\u001b[0m\u001b[0;34m\u001b[0m\u001b[0;34m\u001b[0m\u001b[0m\n\u001b[0;32m----> 2\u001b[0;31m \u001b[0mpickle\u001b[0m\u001b[0;34m.\u001b[0m\u001b[0mdump\u001b[0m\u001b[0;34m(\u001b[0m\u001b[0mword_vec\u001b[0m\u001b[0;34m,\u001b[0m\u001b[0mopen\u001b[0m\u001b[0;34m(\u001b[0m\u001b[0;34m'word_vec.pkl'\u001b[0m\u001b[0;34m,\u001b[0m\u001b[0;34m'wb'\u001b[0m\u001b[0;34m)\u001b[0m\u001b[0;34m,\u001b[0m\u001b[0;34m)\u001b[0m\u001b[0;34m\u001b[0m\u001b[0;34m\u001b[0m\u001b[0m\n\u001b[0m",
            "\u001b[0;31mNameError\u001b[0m: name 'word_vec' is not defined"
          ]
        }
      ]
    },
    {
      "cell_type": "code",
      "source": [
        ""
      ],
      "metadata": {
        "id": "PXT8emXsQTL5"
      },
      "execution_count": null,
      "outputs": []
    }
  ]
}